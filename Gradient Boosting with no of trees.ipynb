{
 "cells": [
  {
   "cell_type": "code",
   "execution_count": 1,
   "id": "3994bd8e",
   "metadata": {},
   "outputs": [],
   "source": [
    "import numpy as np # linear algebra\n",
    "import pandas as pd\n",
    "import seaborn as sns\n",
    "import matplotlib.pyplot as plt\n",
    "import math\n",
    "from sklearn.metrics import mean_squared_error\n"
   ]
  },
  {
   "cell_type": "code",
   "execution_count": 2,
   "id": "04f54ff7",
   "metadata": {},
   "outputs": [],
   "source": [
    "cd = pd.read_csv(\"emissiondata.csv\")         \n",
    "\n",
    "cd.drop_duplicates(inplace=True)"
   ]
  },
  {
   "cell_type": "code",
   "execution_count": 3,
   "id": "a0070dc7",
   "metadata": {},
   "outputs": [],
   "source": [
    "from sklearn.preprocessing import StandardScaler\n",
    "from sklearn.model_selection import train_test_split\n"
   ]
  },
  {
   "cell_type": "code",
   "execution_count": 4,
   "id": "2f040fac",
   "metadata": {},
   "outputs": [],
   "source": [
    "#x=cd[high_corr_features.drop('SalePrice')]  # lets not use the only high corr features since it will be v less.\n",
    "\n",
    "x=cd.drop(['CO (mg/m3)','NOX'], axis=1)\n",
    "y=cd[['CO (mg/m3)']]\n"
   ]
  },
  {
   "cell_type": "code",
   "execution_count": 5,
   "id": "0078d886",
   "metadata": {},
   "outputs": [],
   "source": [
    "xtr, xte, ytr, yte = train_test_split(x, y, test_size=0.25, random_state=42)"
   ]
  },
  {
   "cell_type": "code",
   "execution_count": 6,
   "id": "5aed42cc",
   "metadata": {},
   "outputs": [],
   "source": [
    "scaler = StandardScaler()\n",
    "xs_train=scaler.fit_transform(xtr)\n",
    "xs_test=scaler.fit_transform(xte)\n"
   ]
  },
  {
   "cell_type": "code",
   "execution_count": 7,
   "id": "c49f29f1",
   "metadata": {},
   "outputs": [],
   "source": [
    "from sklearn.ensemble import GradientBoostingRegressor\n"
   ]
  },
  {
   "cell_type": "code",
   "execution_count": 8,
   "id": "8b80949e",
   "metadata": {},
   "outputs": [],
   "source": [
    "## loop over tree size\n",
    "#nbotv = np.arange(5,51)\n",
    "#nbot = len(nbotv)\n",
    "\n",
    "nbotv = [50,100,200,500,750,1000,2000,3000,5000]\n",
    "nbot = [0,1,2,3,4,5,6,7,8]\n",
    "nbot_len =len(nbot)\n",
    "nbot\n",
    "\n",
    "\n",
    "irms = np.zeros((nbot_len,))\n",
    "orms = np.zeros((nbot_len,))"
   ]
  },
  {
   "cell_type": "code",
   "execution_count": 9,
   "id": "794bc519",
   "metadata": {},
   "outputs": [
    {
     "name": "stderr",
     "output_type": "stream",
     "text": [
      "/Users/anirudhnandakumar/opt/anaconda3/lib/python3.8/site-packages/sklearn/utils/validation.py:63: DataConversionWarning: A column-vector y was passed when a 1d array was expected. Please change the shape of y to (n_samples, ), for example using ravel().\n",
      "  return f(*args, **kwargs)\n",
      "/Users/anirudhnandakumar/opt/anaconda3/lib/python3.8/site-packages/sklearn/utils/validation.py:63: DataConversionWarning: A column-vector y was passed when a 1d array was expected. Please change the shape of y to (n_samples, ), for example using ravel().\n",
      "  return f(*args, **kwargs)\n",
      "/Users/anirudhnandakumar/opt/anaconda3/lib/python3.8/site-packages/sklearn/utils/validation.py:63: DataConversionWarning: A column-vector y was passed when a 1d array was expected. Please change the shape of y to (n_samples, ), for example using ravel().\n",
      "  return f(*args, **kwargs)\n",
      "/Users/anirudhnandakumar/opt/anaconda3/lib/python3.8/site-packages/sklearn/utils/validation.py:63: DataConversionWarning: A column-vector y was passed when a 1d array was expected. Please change the shape of y to (n_samples, ), for example using ravel().\n",
      "  return f(*args, **kwargs)\n",
      "/Users/anirudhnandakumar/opt/anaconda3/lib/python3.8/site-packages/sklearn/utils/validation.py:63: DataConversionWarning: A column-vector y was passed when a 1d array was expected. Please change the shape of y to (n_samples, ), for example using ravel().\n",
      "  return f(*args, **kwargs)\n",
      "/Users/anirudhnandakumar/opt/anaconda3/lib/python3.8/site-packages/sklearn/utils/validation.py:63: DataConversionWarning: A column-vector y was passed when a 1d array was expected. Please change the shape of y to (n_samples, ), for example using ravel().\n",
      "  return f(*args, **kwargs)\n",
      "/Users/anirudhnandakumar/opt/anaconda3/lib/python3.8/site-packages/sklearn/utils/validation.py:63: DataConversionWarning: A column-vector y was passed when a 1d array was expected. Please change the shape of y to (n_samples, ), for example using ravel().\n",
      "  return f(*args, **kwargs)\n",
      "/Users/anirudhnandakumar/opt/anaconda3/lib/python3.8/site-packages/sklearn/utils/validation.py:63: DataConversionWarning: A column-vector y was passed when a 1d array was expected. Please change the shape of y to (n_samples, ), for example using ravel().\n",
      "  return f(*args, **kwargs)\n",
      "/Users/anirudhnandakumar/opt/anaconda3/lib/python3.8/site-packages/sklearn/utils/validation.py:63: DataConversionWarning: A column-vector y was passed when a 1d array was expected. Please change the shape of y to (n_samples, ), for example using ravel().\n",
      "  return f(*args, **kwargs)\n"
     ]
    }
   ],
   "source": [
    "for i,j in zip(nbotv,nbot):\n",
    "    gbee = GradientBoostingRegressor(n_estimators= i,max_depth= 3,min_samples_split= 5,learning_rate= 0.1,loss= 'ls')\n",
    "    gbee.fit(xtr,ytr)\n",
    "    ypred_tr_new = gbee.predict(xtr)\n",
    "    ypred_te_new = gbee.predict(xte)\n",
    "    orms[j] = math.sqrt(mean_squared_error(yte,ypred_te_new))\n",
    "    irms[j] = math.sqrt(mean_squared_error(ytr,ypred_tr_new))\n",
    "\n"
   ]
  },
  {
   "cell_type": "code",
   "execution_count": 10,
   "id": "a8ed2dd7",
   "metadata": {},
   "outputs": [
    {
     "data": {
      "text/plain": [
       "Text(0, 0.5, 'Rmse, out of sample (red)')"
      ]
     },
     "execution_count": 10,
     "metadata": {},
     "output_type": "execute_result"
    },
    {
     "data": {
      "image/png": "[encoded data removed]",
      "text/plain": [
       "<Figure size 432x288 with 1 Axes>"
      ]
     },
     "metadata": {
      "needs_background": "light"
     },
     "output_type": "display_data"
    }
   ],
   "source": [
    "plt.plot(nbotv,orms,'-ok',c='r')\n",
    "plt.xlabel('No of decision trees')\n",
    "plt.ylabel('Rmse, out of sample (red)')"
   ]
  },
  {
   "cell_type": "code",
   "execution_count": 11,
   "id": "53e27e08",
   "metadata": {},
   "outputs": [
    {
     "name": "stdout",
     "output_type": "stream",
     "text": [
      "50   1.1873975691469398\n",
      "100   1.1610838352081165\n",
      "200   1.1319523856270874\n",
      "500   1.0968750058830306\n",
      "750   1.0876738030423998\n",
      "1000   1.0867963882042422\n",
      "2000   1.0972125173234943\n",
      "3000   1.1107076823343647\n",
      "5000   1.116472753560612\n"
     ]
    }
   ],
   "source": [
    "for d in range(nbot_len):\n",
    "    print(nbotv[d],\" \",orms[d])\n"
   ]
  },
  {
   "cell_type": "code",
   "execution_count": null,
   "id": "a522743d",
   "metadata": {},
   "outputs": [],
   "source": []
  },
  {
   "cell_type": "code",
   "execution_count": 12,
   "id": "4ed42519",
   "metadata": {},
   "outputs": [
    {
     "name": "stderr",
     "output_type": "stream",
     "text": [
      "/Users/anirudhnandakumar/opt/anaconda3/lib/python3.8/site-packages/sklearn/utils/validation.py:63: DataConversionWarning: A column-vector y was passed when a 1d array was expected. Please change the shape of y to (n_samples, ), for example using ravel().\n",
      "  return f(*args, **kwargs)\n"
     ]
    },
    {
     "name": "stdout",
     "output_type": "stream",
     "text": [
      "Model Accuracy: 0.776\n",
      "The root mean squared error (MSE) on train set: {:.4f} 0.7698645406430275\n",
      "\n",
      "The root mean squared error (MSE) on train set: {:.4f} 1.0857170892995005\n"
     ]
    }
   ],
   "source": [
    "gbrq_params = {'n_estimators': 1000,\n",
    "          'max_depth': 3,\n",
    "          'min_samples_split': 5,\n",
    "          'learning_rate': 0.1,\n",
    "          'loss': 'ls'}\n",
    "#\n",
    "# Create an instance of gradient boosting regressor\n",
    "#\n",
    "gbrq = GradientBoostingRegressor(**gbrq_params)\n",
    "#\n",
    "# Fit the model\n",
    "#\n",
    "gbrq.fit(xtr, ytr)\n",
    "#\n",
    "# Print Coefficient of determination R^2\n",
    "#\n",
    "print(\"Model Accuracy: %.3f\" % gbrq.score(xte, yte))\n",
    "#\n",
    "# Create the mean squared error\n",
    "#\n",
    "rmse_tr2 = math.sqrt(mean_squared_error(ytr, gbrq.predict(xtr)))\n",
    "\n",
    "rmse_te2 = math.sqrt(mean_squared_error(yte, gbrq.predict(xte)))\n",
    "\n",
    "print(\"The root mean squared error (MSE) on train set: {:.4f}\",format(rmse_tr2))\n",
    "                    \n",
    "print(\"\\nThe root mean squared error (MSE) on train set: {:.4f}\",format(rmse_te2))\n"
   ]
  },
  {
   "cell_type": "code",
   "execution_count": null,
   "id": "f077b2ef",
   "metadata": {},
   "outputs": [],
   "source": []
  }
 ],
 "metadata": {
  "kernelspec": {
   "display_name": "Python 3",
   "language": "python",
   "name": "python3"
  },
  "language_info": {
   "codemirror_mode": {
    "name": "ipython",
    "version": 3
   },
   "file_extension": ".py",
   "mimetype": "text/x-python",
   "name": "python",
   "nbconvert_exporter": "python",
   "pygments_lexer": "ipython3",
   "version": "3.8.8"
  }
 },
 "nbformat": 4,
 "nbformat_minor": 5
}
