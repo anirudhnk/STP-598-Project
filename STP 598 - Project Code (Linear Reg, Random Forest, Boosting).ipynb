{
 "cells": [
  {
   "cell_type": "code",
   "execution_count": 1,
   "id": "fa044ec2",
   "metadata": {},
   "outputs": [],
   "source": [
    "import numpy as np \n",
    "import pandas as pd\n",
    "import seaborn as sns\n",
    "import matplotlib.pyplot as plt\n",
    "import math\n",
    "from sklearn.metrics import mean_squared_error\n",
    "from sklearn.ensemble import RandomForestRegressor\n"
   ]
  },
  {
   "cell_type": "code",
   "execution_count": 2,
   "id": "44405a52",
   "metadata": {},
   "outputs": [],
   "source": [
    "cd = pd.read_csv(\"emissiondata.csv\")        "
   ]
  },
  {
   "cell_type": "code",
   "execution_count": 3,
   "id": "7059b18b",
   "metadata": {},
   "outputs": [
    {
     "name": "stdout",
     "output_type": "stream",
     "text": [
      "Index(['Ambient Temperature', 'Ambient Pressure (mbar)',\n",
      "       'Ambient Humidity (%)', 'Air filter difference pressure (mbar)',\n",
      "       'Gas turbine exhaust pressure (mbar)', 'Turbine inlet temperature',\n",
      "       'Turbine after temperature', 'Turbine energy yield (mwh)',\n",
      "       'Compressor discharge pressure', 'CO (mg/m3)', 'NOX'],\n",
      "      dtype='object')\n"
     ]
    }
   ],
   "source": [
    "print(cd.columns)"
   ]
  },
  {
   "cell_type": "code",
   "execution_count": 4,
   "id": "e0236e36",
   "metadata": {},
   "outputs": [
    {
     "name": "stdout",
     "output_type": "stream",
     "text": [
      "<class 'pandas.core.frame.DataFrame'>\n",
      "RangeIndex: 36733 entries, 0 to 36732\n",
      "Data columns (total 11 columns):\n",
      " #   Column                                 Non-Null Count  Dtype  \n",
      "---  ------                                 --------------  -----  \n",
      " 0   Ambient Temperature                    36733 non-null  float64\n",
      " 1   Ambient Pressure (mbar)                36733 non-null  float64\n",
      " 2   Ambient Humidity (%)                   36733 non-null  float64\n",
      " 3   Air filter difference pressure (mbar)  36733 non-null  float64\n",
      " 4   Gas turbine exhaust pressure (mbar)    36733 non-null  float64\n",
      " 5   Turbine inlet temperature              36733 non-null  float64\n",
      " 6   Turbine after temperature              36733 non-null  float64\n",
      " 7   Turbine energy yield (mwh)             36733 non-null  float64\n",
      " 8   Compressor discharge pressure          36733 non-null  float64\n",
      " 9   CO (mg/m3)                             36733 non-null  float64\n",
      " 10  NOX                                    36733 non-null  float64\n",
      "dtypes: float64(11)\n",
      "memory usage: 3.1 MB\n"
     ]
    }
   ],
   "source": [
    "cd.info()"
   ]
  },
  {
   "cell_type": "code",
   "execution_count": 5,
   "id": "6ca7054f",
   "metadata": {},
   "outputs": [
    {
     "data": {
      "text/html": [
       "<div>\n",
       "<style scoped>\n",
       "    .dataframe tbody tr th:only-of-type {\n",
       "        vertical-align: middle;\n",
       "    }\n",
       "\n",
       "    .dataframe tbody tr th {\n",
       "        vertical-align: top;\n",
       "    }\n",
       "\n",
       "    .dataframe thead th {\n",
       "        text-align: right;\n",
       "    }\n",
       "</style>\n",
       "<table border=\"1\" class=\"dataframe\">\n",
       "  <thead>\n",
       "    <tr style=\"text-align: right;\">\n",
       "      <th></th>\n",
       "      <th>Ambient Temperature</th>\n",
       "      <th>Ambient Pressure (mbar)</th>\n",
       "      <th>Ambient Humidity (%)</th>\n",
       "      <th>Air filter difference pressure (mbar)</th>\n",
       "      <th>Gas turbine exhaust pressure (mbar)</th>\n",
       "      <th>Turbine inlet temperature</th>\n",
       "      <th>Turbine after temperature</th>\n",
       "      <th>Turbine energy yield (mwh)</th>\n",
       "      <th>Compressor discharge pressure</th>\n",
       "      <th>CO (mg/m3)</th>\n",
       "      <th>NOX</th>\n",
       "    </tr>\n",
       "  </thead>\n",
       "  <tbody>\n",
       "    <tr>\n",
       "      <th>count</th>\n",
       "      <td>36733.000000</td>\n",
       "      <td>36733.000000</td>\n",
       "      <td>36733.000000</td>\n",
       "      <td>36733.000000</td>\n",
       "      <td>36733.000000</td>\n",
       "      <td>36733.000000</td>\n",
       "      <td>36733.000000</td>\n",
       "      <td>36733.000000</td>\n",
       "      <td>36733.000000</td>\n",
       "      <td>36733.000000</td>\n",
       "      <td>36733.000000</td>\n",
       "    </tr>\n",
       "    <tr>\n",
       "      <th>mean</th>\n",
       "      <td>17.712726</td>\n",
       "      <td>1013.070165</td>\n",
       "      <td>77.867015</td>\n",
       "      <td>3.925518</td>\n",
       "      <td>25.563801</td>\n",
       "      <td>1081.428084</td>\n",
       "      <td>546.158517</td>\n",
       "      <td>133.506404</td>\n",
       "      <td>12.060525</td>\n",
       "      <td>2.372468</td>\n",
       "      <td>65.293067</td>\n",
       "    </tr>\n",
       "    <tr>\n",
       "      <th>std</th>\n",
       "      <td>7.447451</td>\n",
       "      <td>6.463346</td>\n",
       "      <td>14.461355</td>\n",
       "      <td>0.773936</td>\n",
       "      <td>4.195957</td>\n",
       "      <td>17.536373</td>\n",
       "      <td>6.842360</td>\n",
       "      <td>15.618634</td>\n",
       "      <td>1.088795</td>\n",
       "      <td>2.262672</td>\n",
       "      <td>11.678357</td>\n",
       "    </tr>\n",
       "    <tr>\n",
       "      <th>min</th>\n",
       "      <td>-6.234800</td>\n",
       "      <td>985.850000</td>\n",
       "      <td>24.085000</td>\n",
       "      <td>2.087400</td>\n",
       "      <td>17.698000</td>\n",
       "      <td>1000.800000</td>\n",
       "      <td>511.040000</td>\n",
       "      <td>100.020000</td>\n",
       "      <td>9.851800</td>\n",
       "      <td>0.000388</td>\n",
       "      <td>25.905000</td>\n",
       "    </tr>\n",
       "    <tr>\n",
       "      <th>25%</th>\n",
       "      <td>11.781000</td>\n",
       "      <td>1008.800000</td>\n",
       "      <td>68.188000</td>\n",
       "      <td>3.355600</td>\n",
       "      <td>23.129000</td>\n",
       "      <td>1071.800000</td>\n",
       "      <td>544.720000</td>\n",
       "      <td>124.450000</td>\n",
       "      <td>11.435000</td>\n",
       "      <td>1.182400</td>\n",
       "      <td>57.162000</td>\n",
       "    </tr>\n",
       "    <tr>\n",
       "      <th>50%</th>\n",
       "      <td>17.801000</td>\n",
       "      <td>1012.600000</td>\n",
       "      <td>80.470000</td>\n",
       "      <td>3.937700</td>\n",
       "      <td>25.104000</td>\n",
       "      <td>1085.900000</td>\n",
       "      <td>549.880000</td>\n",
       "      <td>133.730000</td>\n",
       "      <td>11.965000</td>\n",
       "      <td>1.713500</td>\n",
       "      <td>63.849000</td>\n",
       "    </tr>\n",
       "    <tr>\n",
       "      <th>75%</th>\n",
       "      <td>23.665000</td>\n",
       "      <td>1017.000000</td>\n",
       "      <td>89.376000</td>\n",
       "      <td>4.376900</td>\n",
       "      <td>29.061000</td>\n",
       "      <td>1097.000000</td>\n",
       "      <td>550.040000</td>\n",
       "      <td>144.080000</td>\n",
       "      <td>12.855000</td>\n",
       "      <td>2.842900</td>\n",
       "      <td>71.548000</td>\n",
       "    </tr>\n",
       "    <tr>\n",
       "      <th>max</th>\n",
       "      <td>37.103000</td>\n",
       "      <td>1036.600000</td>\n",
       "      <td>100.200000</td>\n",
       "      <td>7.610600</td>\n",
       "      <td>40.716000</td>\n",
       "      <td>1100.900000</td>\n",
       "      <td>550.610000</td>\n",
       "      <td>179.500000</td>\n",
       "      <td>15.159000</td>\n",
       "      <td>44.103000</td>\n",
       "      <td>119.910000</td>\n",
       "    </tr>\n",
       "  </tbody>\n",
       "</table>\n",
       "</div>"
      ],
      "text/plain": [
       "       Ambient Temperature  Ambient Pressure (mbar)  Ambient Humidity (%)  \\\n",
       "count         36733.000000             36733.000000          36733.000000   \n",
       "mean             17.712726              1013.070165             77.867015   \n",
       "std               7.447451                 6.463346             14.461355   \n",
       "min              -6.234800               985.850000             24.085000   \n",
       "25%              11.781000              1008.800000             68.188000   \n",
       "50%              17.801000              1012.600000             80.470000   \n",
       "75%              23.665000              1017.000000             89.376000   \n",
       "max              37.103000              1036.600000            100.200000   \n",
       "\n",
       "       Air filter difference pressure (mbar)  \\\n",
       "count                           36733.000000   \n",
       "mean                                3.925518   \n",
       "std                                 0.773936   \n",
       "min                                 2.087400   \n",
       "25%                                 3.355600   \n",
       "50%                                 3.937700   \n",
       "75%                                 4.376900   \n",
       "max                                 7.610600   \n",
       "\n",
       "       Gas turbine exhaust pressure (mbar)  Turbine inlet temperature  \\\n",
       "count                         36733.000000               36733.000000   \n",
       "mean                             25.563801                1081.428084   \n",
       "std                               4.195957                  17.536373   \n",
       "min                              17.698000                1000.800000   \n",
       "25%                              23.129000                1071.800000   \n",
       "50%                              25.104000                1085.900000   \n",
       "75%                              29.061000                1097.000000   \n",
       "max                              40.716000                1100.900000   \n",
       "\n",
       "       Turbine after temperature  Turbine energy yield (mwh)  \\\n",
       "count               36733.000000                36733.000000   \n",
       "mean                  546.158517                  133.506404   \n",
       "std                     6.842360                   15.618634   \n",
       "min                   511.040000                  100.020000   \n",
       "25%                   544.720000                  124.450000   \n",
       "50%                   549.880000                  133.730000   \n",
       "75%                   550.040000                  144.080000   \n",
       "max                   550.610000                  179.500000   \n",
       "\n",
       "       Compressor discharge pressure    CO (mg/m3)           NOX  \n",
       "count                   36733.000000  36733.000000  36733.000000  \n",
       "mean                       12.060525      2.372468     65.293067  \n",
       "std                         1.088795      2.262672     11.678357  \n",
       "min                         9.851800      0.000388     25.905000  \n",
       "25%                        11.435000      1.182400     57.162000  \n",
       "50%                        11.965000      1.713500     63.849000  \n",
       "75%                        12.855000      2.842900     71.548000  \n",
       "max                        15.159000     44.103000    119.910000  "
      ]
     },
     "execution_count": 5,
     "metadata": {},
     "output_type": "execute_result"
    }
   ],
   "source": [
    "cd.describe()"
   ]
  },
  {
   "cell_type": "code",
   "execution_count": 6,
   "id": "d0471af0",
   "metadata": {},
   "outputs": [
    {
     "data": {
      "text/plain": [
       "7"
      ]
     },
     "execution_count": 6,
     "metadata": {},
     "output_type": "execute_result"
    }
   ],
   "source": [
    "cd.duplicated().sum()              # calculating no of duplicate rows."
   ]
  },
  {
   "cell_type": "code",
   "execution_count": 7,
   "id": "9073115c",
   "metadata": {},
   "outputs": [
    {
     "name": "stdout",
     "output_type": "stream",
     "text": [
      "       Ambient Temperature  Ambient Pressure (mbar)  Ambient Humidity (%)  \\\n",
      "26399               23.156                   1004.2                95.938   \n",
      "26400               23.156                   1004.2                95.938   \n",
      "26401               23.156                   1004.2                95.938   \n",
      "26402               23.156                   1004.2                95.938   \n",
      "27389               26.067                   1008.3                87.328   \n",
      "27390               26.067                   1008.3                87.328   \n",
      "27391               26.067                   1008.3                87.328   \n",
      "\n",
      "       Air filter difference pressure (mbar)  \\\n",
      "26399                                 4.0547   \n",
      "26400                                 4.0547   \n",
      "26401                                 4.0547   \n",
      "26402                                 4.0547   \n",
      "27389                                 5.0703   \n",
      "27390                                 5.0703   \n",
      "27391                                 5.0703   \n",
      "\n",
      "       Gas turbine exhaust pressure (mbar)  Turbine inlet temperature  \\\n",
      "26399                               24.672                     1076.6   \n",
      "26400                               24.672                     1076.6   \n",
      "26401                               24.672                     1076.6   \n",
      "26402                               24.672                     1076.6   \n",
      "27389                               29.984                     1099.1   \n",
      "27390                               29.984                     1099.1   \n",
      "27391                               29.984                     1099.1   \n",
      "\n",
      "       Turbine after temperature  Turbine energy yield (mwh)  \\\n",
      "26399                     549.87                      127.01   \n",
      "26400                     549.87                      127.01   \n",
      "26401                     549.87                      127.01   \n",
      "26402                     549.87                      127.01   \n",
      "27389                     546.78                      146.14   \n",
      "27390                     546.78                      146.14   \n",
      "27391                     546.78                      146.14   \n",
      "\n",
      "       Compressor discharge pressure  CO (mg/m3)     NOX  \n",
      "26399                         11.835      1.7056  47.352  \n",
      "26400                         11.835      1.7056  47.352  \n",
      "26401                         11.835      1.7056  47.352  \n",
      "26402                         11.835      1.7056  47.352  \n",
      "27389                         13.038      1.3163  52.564  \n",
      "27390                         13.038      1.3163  52.564  \n",
      "27391                         13.038      1.3163  52.564  \n"
     ]
    }
   ],
   "source": [
    "print(cd[cd.duplicated()])\n"
   ]
  },
  {
   "cell_type": "code",
   "execution_count": 8,
   "id": "f14731f6",
   "metadata": {},
   "outputs": [],
   "source": [
    "cd.drop_duplicates(inplace=True)"
   ]
  },
  {
   "cell_type": "code",
   "execution_count": 9,
   "id": "56448067",
   "metadata": {},
   "outputs": [
    {
     "data": {
      "text/html": [
       "<div>\n",
       "<style scoped>\n",
       "    .dataframe tbody tr th:only-of-type {\n",
       "        vertical-align: middle;\n",
       "    }\n",
       "\n",
       "    .dataframe tbody tr th {\n",
       "        vertical-align: top;\n",
       "    }\n",
       "\n",
       "    .dataframe thead th {\n",
       "        text-align: right;\n",
       "    }\n",
       "</style>\n",
       "<table border=\"1\" class=\"dataframe\">\n",
       "  <thead>\n",
       "    <tr style=\"text-align: right;\">\n",
       "      <th></th>\n",
       "      <th>Ambient Temperature</th>\n",
       "      <th>Ambient Pressure (mbar)</th>\n",
       "      <th>Ambient Humidity (%)</th>\n",
       "      <th>Air filter difference pressure (mbar)</th>\n",
       "      <th>Gas turbine exhaust pressure (mbar)</th>\n",
       "      <th>Turbine inlet temperature</th>\n",
       "      <th>Turbine after temperature</th>\n",
       "      <th>Turbine energy yield (mwh)</th>\n",
       "      <th>Compressor discharge pressure</th>\n",
       "      <th>CO (mg/m3)</th>\n",
       "      <th>NOX</th>\n",
       "    </tr>\n",
       "  </thead>\n",
       "  <tbody>\n",
       "    <tr>\n",
       "      <th>count</th>\n",
       "      <td>36726.000000</td>\n",
       "      <td>36726.000000</td>\n",
       "      <td>36726.000000</td>\n",
       "      <td>36726.000000</td>\n",
       "      <td>36726.000000</td>\n",
       "      <td>36726.000000</td>\n",
       "      <td>36726.000000</td>\n",
       "      <td>36726.000000</td>\n",
       "      <td>36726.000000</td>\n",
       "      <td>36726.000000</td>\n",
       "      <td>36726.000000</td>\n",
       "    </tr>\n",
       "    <tr>\n",
       "      <th>mean</th>\n",
       "      <td>17.711451</td>\n",
       "      <td>1013.071521</td>\n",
       "      <td>77.864274</td>\n",
       "      <td>3.925410</td>\n",
       "      <td>25.563537</td>\n",
       "      <td>1081.427166</td>\n",
       "      <td>546.158062</td>\n",
       "      <td>133.506079</td>\n",
       "      <td>12.060470</td>\n",
       "      <td>2.372627</td>\n",
       "      <td>65.296061</td>\n",
       "    </tr>\n",
       "    <tr>\n",
       "      <th>std</th>\n",
       "      <td>7.447561</td>\n",
       "      <td>6.463155</td>\n",
       "      <td>14.461250</td>\n",
       "      <td>0.773939</td>\n",
       "      <td>4.196157</td>\n",
       "      <td>17.537244</td>\n",
       "      <td>6.842901</td>\n",
       "      <td>15.619558</td>\n",
       "      <td>1.088861</td>\n",
       "      <td>2.262856</td>\n",
       "      <td>11.677402</td>\n",
       "    </tr>\n",
       "    <tr>\n",
       "      <th>min</th>\n",
       "      <td>-6.234800</td>\n",
       "      <td>985.850000</td>\n",
       "      <td>24.085000</td>\n",
       "      <td>2.087400</td>\n",
       "      <td>17.698000</td>\n",
       "      <td>1000.800000</td>\n",
       "      <td>511.040000</td>\n",
       "      <td>100.020000</td>\n",
       "      <td>9.851800</td>\n",
       "      <td>0.000388</td>\n",
       "      <td>25.905000</td>\n",
       "    </tr>\n",
       "    <tr>\n",
       "      <th>25%</th>\n",
       "      <td>11.779250</td>\n",
       "      <td>1008.800000</td>\n",
       "      <td>68.182500</td>\n",
       "      <td>3.355525</td>\n",
       "      <td>23.127250</td>\n",
       "      <td>1071.800000</td>\n",
       "      <td>544.720000</td>\n",
       "      <td>124.450000</td>\n",
       "      <td>11.434000</td>\n",
       "      <td>1.182325</td>\n",
       "      <td>57.164250</td>\n",
       "    </tr>\n",
       "    <tr>\n",
       "      <th>50%</th>\n",
       "      <td>17.798000</td>\n",
       "      <td>1012.600000</td>\n",
       "      <td>80.465500</td>\n",
       "      <td>3.937450</td>\n",
       "      <td>25.104500</td>\n",
       "      <td>1085.900000</td>\n",
       "      <td>549.880000</td>\n",
       "      <td>133.730000</td>\n",
       "      <td>11.965000</td>\n",
       "      <td>1.713700</td>\n",
       "      <td>63.851000</td>\n",
       "    </tr>\n",
       "    <tr>\n",
       "      <th>75%</th>\n",
       "      <td>23.664000</td>\n",
       "      <td>1017.000000</td>\n",
       "      <td>89.373750</td>\n",
       "      <td>4.376800</td>\n",
       "      <td>29.059000</td>\n",
       "      <td>1097.000000</td>\n",
       "      <td>550.040000</td>\n",
       "      <td>144.080000</td>\n",
       "      <td>12.853750</td>\n",
       "      <td>2.843350</td>\n",
       "      <td>71.549000</td>\n",
       "    </tr>\n",
       "    <tr>\n",
       "      <th>max</th>\n",
       "      <td>37.103000</td>\n",
       "      <td>1036.600000</td>\n",
       "      <td>100.200000</td>\n",
       "      <td>7.610600</td>\n",
       "      <td>40.716000</td>\n",
       "      <td>1100.900000</td>\n",
       "      <td>550.610000</td>\n",
       "      <td>179.500000</td>\n",
       "      <td>15.159000</td>\n",
       "      <td>44.103000</td>\n",
       "      <td>119.910000</td>\n",
       "    </tr>\n",
       "  </tbody>\n",
       "</table>\n",
       "</div>"
      ],
      "text/plain": [
       "       Ambient Temperature  Ambient Pressure (mbar)  Ambient Humidity (%)  \\\n",
       "count         36726.000000             36726.000000          36726.000000   \n",
       "mean             17.711451              1013.071521             77.864274   \n",
       "std               7.447561                 6.463155             14.461250   \n",
       "min              -6.234800               985.850000             24.085000   \n",
       "25%              11.779250              1008.800000             68.182500   \n",
       "50%              17.798000              1012.600000             80.465500   \n",
       "75%              23.664000              1017.000000             89.373750   \n",
       "max              37.103000              1036.600000            100.200000   \n",
       "\n",
       "       Air filter difference pressure (mbar)  \\\n",
       "count                           36726.000000   \n",
       "mean                                3.925410   \n",
       "std                                 0.773939   \n",
       "min                                 2.087400   \n",
       "25%                                 3.355525   \n",
       "50%                                 3.937450   \n",
       "75%                                 4.376800   \n",
       "max                                 7.610600   \n",
       "\n",
       "       Gas turbine exhaust pressure (mbar)  Turbine inlet temperature  \\\n",
       "count                         36726.000000               36726.000000   \n",
       "mean                             25.563537                1081.427166   \n",
       "std                               4.196157                  17.537244   \n",
       "min                              17.698000                1000.800000   \n",
       "25%                              23.127250                1071.800000   \n",
       "50%                              25.104500                1085.900000   \n",
       "75%                              29.059000                1097.000000   \n",
       "max                              40.716000                1100.900000   \n",
       "\n",
       "       Turbine after temperature  Turbine energy yield (mwh)  \\\n",
       "count               36726.000000                36726.000000   \n",
       "mean                  546.158062                  133.506079   \n",
       "std                     6.842901                   15.619558   \n",
       "min                   511.040000                  100.020000   \n",
       "25%                   544.720000                  124.450000   \n",
       "50%                   549.880000                  133.730000   \n",
       "75%                   550.040000                  144.080000   \n",
       "max                   550.610000                  179.500000   \n",
       "\n",
       "       Compressor discharge pressure    CO (mg/m3)           NOX  \n",
       "count                   36726.000000  36726.000000  36726.000000  \n",
       "mean                       12.060470      2.372627     65.296061  \n",
       "std                         1.088861      2.262856     11.677402  \n",
       "min                         9.851800      0.000388     25.905000  \n",
       "25%                        11.434000      1.182325     57.164250  \n",
       "50%                        11.965000      1.713700     63.851000  \n",
       "75%                        12.853750      2.843350     71.549000  \n",
       "max                        15.159000     44.103000    119.910000  "
      ]
     },
     "execution_count": 9,
     "metadata": {},
     "output_type": "execute_result"
    }
   ],
   "source": [
    "cd.describe()"
   ]
  },
  {
   "cell_type": "code",
   "execution_count": 10,
   "id": "84240bf2",
   "metadata": {},
   "outputs": [
    {
     "name": "stdout",
     "output_type": "stream",
     "text": [
      "Ambient Temperature                      0\n",
      "Ambient Pressure (mbar)                  0\n",
      "Ambient Humidity (%)                     0\n",
      "Air filter difference pressure (mbar)    0\n",
      "Gas turbine exhaust pressure (mbar)      0\n",
      "Turbine inlet temperature                0\n",
      "Turbine after temperature                0\n",
      "Turbine energy yield (mwh)               0\n",
      "Compressor discharge pressure            0\n",
      "CO (mg/m3)                               0\n",
      "NOX                                      0\n",
      "dtype: int64\n"
     ]
    }
   ],
   "source": [
    "print(cd.isnull().sum())    # therefore, no null values in any column."
   ]
  },
  {
   "cell_type": "code",
   "execution_count": 11,
   "id": "046a7615",
   "metadata": {},
   "outputs": [
    {
     "data": {
      "text/html": [
       "<div>\n",
       "<style scoped>\n",
       "    .dataframe tbody tr th:only-of-type {\n",
       "        vertical-align: middle;\n",
       "    }\n",
       "\n",
       "    .dataframe tbody tr th {\n",
       "        vertical-align: top;\n",
       "    }\n",
       "\n",
       "    .dataframe thead th {\n",
       "        text-align: right;\n",
       "    }\n",
       "</style>\n",
       "<table border=\"1\" class=\"dataframe\">\n",
       "  <thead>\n",
       "    <tr style=\"text-align: right;\">\n",
       "      <th></th>\n",
       "      <th>Ambient Temperature</th>\n",
       "      <th>Ambient Pressure (mbar)</th>\n",
       "      <th>Ambient Humidity (%)</th>\n",
       "      <th>Air filter difference pressure (mbar)</th>\n",
       "      <th>Gas turbine exhaust pressure (mbar)</th>\n",
       "      <th>Turbine inlet temperature</th>\n",
       "      <th>Turbine after temperature</th>\n",
       "      <th>Turbine energy yield (mwh)</th>\n",
       "      <th>Compressor discharge pressure</th>\n",
       "      <th>CO (mg/m3)</th>\n",
       "      <th>NOX</th>\n",
       "    </tr>\n",
       "  </thead>\n",
       "  <tbody>\n",
       "    <tr>\n",
       "      <th>Ambient Temperature</th>\n",
       "      <td>1.000000</td>\n",
       "      <td>-0.406508</td>\n",
       "      <td>-0.476538</td>\n",
       "      <td>0.251868</td>\n",
       "      <td>0.045777</td>\n",
       "      <td>0.183659</td>\n",
       "      <td>0.281845</td>\n",
       "      <td>-0.091203</td>\n",
       "      <td>0.015223</td>\n",
       "      <td>-0.174276</td>\n",
       "      <td>-0.558095</td>\n",
       "    </tr>\n",
       "    <tr>\n",
       "      <th>Ambient Pressure (mbar)</th>\n",
       "      <td>-0.406508</td>\n",
       "      <td>1.000000</td>\n",
       "      <td>-0.014961</td>\n",
       "      <td>-0.040258</td>\n",
       "      <td>0.057575</td>\n",
       "      <td>-0.005371</td>\n",
       "      <td>-0.225546</td>\n",
       "      <td>0.118230</td>\n",
       "      <td>0.102676</td>\n",
       "      <td>0.066987</td>\n",
       "      <td>0.191700</td>\n",
       "    </tr>\n",
       "    <tr>\n",
       "      <th>Ambient Humidity (%)</th>\n",
       "      <td>-0.476538</td>\n",
       "      <td>-0.014961</td>\n",
       "      <td>1.000000</td>\n",
       "      <td>-0.147971</td>\n",
       "      <td>-0.235216</td>\n",
       "      <td>-0.221858</td>\n",
       "      <td>0.022889</td>\n",
       "      <td>-0.137365</td>\n",
       "      <td>-0.196321</td>\n",
       "      <td>0.106663</td>\n",
       "      <td>0.164931</td>\n",
       "    </tr>\n",
       "    <tr>\n",
       "      <th>Air filter difference pressure (mbar)</th>\n",
       "      <td>0.251868</td>\n",
       "      <td>-0.040258</td>\n",
       "      <td>-0.147971</td>\n",
       "      <td>1.000000</td>\n",
       "      <td>0.678456</td>\n",
       "      <td>0.691269</td>\n",
       "      <td>-0.466953</td>\n",
       "      <td>0.665477</td>\n",
       "      <td>0.702552</td>\n",
       "      <td>-0.448410</td>\n",
       "      <td>-0.188138</td>\n",
       "    </tr>\n",
       "    <tr>\n",
       "      <th>Gas turbine exhaust pressure (mbar)</th>\n",
       "      <td>0.045777</td>\n",
       "      <td>0.057575</td>\n",
       "      <td>-0.235216</td>\n",
       "      <td>0.678456</td>\n",
       "      <td>1.000000</td>\n",
       "      <td>0.874223</td>\n",
       "      <td>-0.699743</td>\n",
       "      <td>0.964128</td>\n",
       "      <td>0.978469</td>\n",
       "      <td>-0.518908</td>\n",
       "      <td>-0.201617</td>\n",
       "    </tr>\n",
       "    <tr>\n",
       "      <th>Turbine inlet temperature</th>\n",
       "      <td>0.183659</td>\n",
       "      <td>-0.005371</td>\n",
       "      <td>-0.221858</td>\n",
       "      <td>0.691269</td>\n",
       "      <td>0.874223</td>\n",
       "      <td>1.000000</td>\n",
       "      <td>-0.380877</td>\n",
       "      <td>0.910293</td>\n",
       "      <td>0.908463</td>\n",
       "      <td>-0.706287</td>\n",
       "      <td>-0.213869</td>\n",
       "    </tr>\n",
       "    <tr>\n",
       "      <th>Turbine after temperature</th>\n",
       "      <td>0.281845</td>\n",
       "      <td>-0.225546</td>\n",
       "      <td>0.022889</td>\n",
       "      <td>-0.466953</td>\n",
       "      <td>-0.699743</td>\n",
       "      <td>-0.380877</td>\n",
       "      <td>1.000000</td>\n",
       "      <td>-0.682413</td>\n",
       "      <td>-0.706469</td>\n",
       "      <td>0.058376</td>\n",
       "      <td>-0.092711</td>\n",
       "    </tr>\n",
       "    <tr>\n",
       "      <th>Turbine energy yield (mwh)</th>\n",
       "      <td>-0.091203</td>\n",
       "      <td>0.118230</td>\n",
       "      <td>-0.137365</td>\n",
       "      <td>0.665477</td>\n",
       "      <td>0.964128</td>\n",
       "      <td>0.910293</td>\n",
       "      <td>-0.682413</td>\n",
       "      <td>1.000000</td>\n",
       "      <td>0.988780</td>\n",
       "      <td>-0.569823</td>\n",
       "      <td>-0.116150</td>\n",
       "    </tr>\n",
       "    <tr>\n",
       "      <th>Compressor discharge pressure</th>\n",
       "      <td>0.015223</td>\n",
       "      <td>0.102676</td>\n",
       "      <td>-0.196321</td>\n",
       "      <td>0.702552</td>\n",
       "      <td>0.978469</td>\n",
       "      <td>0.908463</td>\n",
       "      <td>-0.706469</td>\n",
       "      <td>0.988780</td>\n",
       "      <td>1.000000</td>\n",
       "      <td>-0.551026</td>\n",
       "      <td>-0.171247</td>\n",
       "    </tr>\n",
       "    <tr>\n",
       "      <th>CO (mg/m3)</th>\n",
       "      <td>-0.174276</td>\n",
       "      <td>0.066987</td>\n",
       "      <td>0.106663</td>\n",
       "      <td>-0.448410</td>\n",
       "      <td>-0.518908</td>\n",
       "      <td>-0.706287</td>\n",
       "      <td>0.058376</td>\n",
       "      <td>-0.569823</td>\n",
       "      <td>-0.551026</td>\n",
       "      <td>1.000000</td>\n",
       "      <td>0.340580</td>\n",
       "    </tr>\n",
       "    <tr>\n",
       "      <th>NOX</th>\n",
       "      <td>-0.558095</td>\n",
       "      <td>0.191700</td>\n",
       "      <td>0.164931</td>\n",
       "      <td>-0.188138</td>\n",
       "      <td>-0.201617</td>\n",
       "      <td>-0.213869</td>\n",
       "      <td>-0.092711</td>\n",
       "      <td>-0.116150</td>\n",
       "      <td>-0.171247</td>\n",
       "      <td>0.340580</td>\n",
       "      <td>1.000000</td>\n",
       "    </tr>\n",
       "  </tbody>\n",
       "</table>\n",
       "</div>"
      ],
      "text/plain": [
       "                                       Ambient Temperature  \\\n",
       "Ambient Temperature                               1.000000   \n",
       "Ambient Pressure (mbar)                          -0.406508   \n",
       "Ambient Humidity (%)                             -0.476538   \n",
       "Air filter difference pressure (mbar)             0.251868   \n",
       "Gas turbine exhaust pressure (mbar)               0.045777   \n",
       "Turbine inlet temperature                         0.183659   \n",
       "Turbine after temperature                         0.281845   \n",
       "Turbine energy yield (mwh)                       -0.091203   \n",
       "Compressor discharge pressure                     0.015223   \n",
       "CO (mg/m3)                                       -0.174276   \n",
       "NOX                                              -0.558095   \n",
       "\n",
       "                                       Ambient Pressure (mbar)  \\\n",
       "Ambient Temperature                                  -0.406508   \n",
       "Ambient Pressure (mbar)                               1.000000   \n",
       "Ambient Humidity (%)                                 -0.014961   \n",
       "Air filter difference pressure (mbar)                -0.040258   \n",
       "Gas turbine exhaust pressure (mbar)                   0.057575   \n",
       "Turbine inlet temperature                            -0.005371   \n",
       "Turbine after temperature                            -0.225546   \n",
       "Turbine energy yield (mwh)                            0.118230   \n",
       "Compressor discharge pressure                         0.102676   \n",
       "CO (mg/m3)                                            0.066987   \n",
       "NOX                                                   0.191700   \n",
       "\n",
       "                                       Ambient Humidity (%)  \\\n",
       "Ambient Temperature                               -0.476538   \n",
       "Ambient Pressure (mbar)                           -0.014961   \n",
       "Ambient Humidity (%)                               1.000000   \n",
       "Air filter difference pressure (mbar)             -0.147971   \n",
       "Gas turbine exhaust pressure (mbar)               -0.235216   \n",
       "Turbine inlet temperature                         -0.221858   \n",
       "Turbine after temperature                          0.022889   \n",
       "Turbine energy yield (mwh)                        -0.137365   \n",
       "Compressor discharge pressure                     -0.196321   \n",
       "CO (mg/m3)                                         0.106663   \n",
       "NOX                                                0.164931   \n",
       "\n",
       "                                       Air filter difference pressure (mbar)  \\\n",
       "Ambient Temperature                                                 0.251868   \n",
       "Ambient Pressure (mbar)                                            -0.040258   \n",
       "Ambient Humidity (%)                                               -0.147971   \n",
       "Air filter difference pressure (mbar)                               1.000000   \n",
       "Gas turbine exhaust pressure (mbar)                                 0.678456   \n",
       "Turbine inlet temperature                                           0.691269   \n",
       "Turbine after temperature                                          -0.466953   \n",
       "Turbine energy yield (mwh)                                          0.665477   \n",
       "Compressor discharge pressure                                       0.702552   \n",
       "CO (mg/m3)                                                         -0.448410   \n",
       "NOX                                                                -0.188138   \n",
       "\n",
       "                                       Gas turbine exhaust pressure (mbar)  \\\n",
       "Ambient Temperature                                               0.045777   \n",
       "Ambient Pressure (mbar)                                           0.057575   \n",
       "Ambient Humidity (%)                                             -0.235216   \n",
       "Air filter difference pressure (mbar)                             0.678456   \n",
       "Gas turbine exhaust pressure (mbar)                               1.000000   \n",
       "Turbine inlet temperature                                         0.874223   \n",
       "Turbine after temperature                                        -0.699743   \n",
       "Turbine energy yield (mwh)                                        0.964128   \n",
       "Compressor discharge pressure                                     0.978469   \n",
       "CO (mg/m3)                                                       -0.518908   \n",
       "NOX                                                              -0.201617   \n",
       "\n",
       "                                       Turbine inlet temperature  \\\n",
       "Ambient Temperature                                     0.183659   \n",
       "Ambient Pressure (mbar)                                -0.005371   \n",
       "Ambient Humidity (%)                                   -0.221858   \n",
       "Air filter difference pressure (mbar)                   0.691269   \n",
       "Gas turbine exhaust pressure (mbar)                     0.874223   \n",
       "Turbine inlet temperature                               1.000000   \n",
       "Turbine after temperature                              -0.380877   \n",
       "Turbine energy yield (mwh)                              0.910293   \n",
       "Compressor discharge pressure                           0.908463   \n",
       "CO (mg/m3)                                             -0.706287   \n",
       "NOX                                                    -0.213869   \n",
       "\n",
       "                                       Turbine after temperature  \\\n",
       "Ambient Temperature                                     0.281845   \n",
       "Ambient Pressure (mbar)                                -0.225546   \n",
       "Ambient Humidity (%)                                    0.022889   \n",
       "Air filter difference pressure (mbar)                  -0.466953   \n",
       "Gas turbine exhaust pressure (mbar)                    -0.699743   \n",
       "Turbine inlet temperature                              -0.380877   \n",
       "Turbine after temperature                               1.000000   \n",
       "Turbine energy yield (mwh)                             -0.682413   \n",
       "Compressor discharge pressure                          -0.706469   \n",
       "CO (mg/m3)                                              0.058376   \n",
       "NOX                                                    -0.092711   \n",
       "\n",
       "                                       Turbine energy yield (mwh)  \\\n",
       "Ambient Temperature                                     -0.091203   \n",
       "Ambient Pressure (mbar)                                  0.118230   \n",
       "Ambient Humidity (%)                                    -0.137365   \n",
       "Air filter difference pressure (mbar)                    0.665477   \n",
       "Gas turbine exhaust pressure (mbar)                      0.964128   \n",
       "Turbine inlet temperature                                0.910293   \n",
       "Turbine after temperature                               -0.682413   \n",
       "Turbine energy yield (mwh)                               1.000000   \n",
       "Compressor discharge pressure                            0.988780   \n",
       "CO (mg/m3)                                              -0.569823   \n",
       "NOX                                                     -0.116150   \n",
       "\n",
       "                                       Compressor discharge pressure  \\\n",
       "Ambient Temperature                                         0.015223   \n",
       "Ambient Pressure (mbar)                                     0.102676   \n",
       "Ambient Humidity (%)                                       -0.196321   \n",
       "Air filter difference pressure (mbar)                       0.702552   \n",
       "Gas turbine exhaust pressure (mbar)                         0.978469   \n",
       "Turbine inlet temperature                                   0.908463   \n",
       "Turbine after temperature                                  -0.706469   \n",
       "Turbine energy yield (mwh)                                  0.988780   \n",
       "Compressor discharge pressure                               1.000000   \n",
       "CO (mg/m3)                                                 -0.551026   \n",
       "NOX                                                        -0.171247   \n",
       "\n",
       "                                       CO (mg/m3)       NOX  \n",
       "Ambient Temperature                     -0.174276 -0.558095  \n",
       "Ambient Pressure (mbar)                  0.066987  0.191700  \n",
       "Ambient Humidity (%)                     0.106663  0.164931  \n",
       "Air filter difference pressure (mbar)   -0.448410 -0.188138  \n",
       "Gas turbine exhaust pressure (mbar)     -0.518908 -0.201617  \n",
       "Turbine inlet temperature               -0.706287 -0.213869  \n",
       "Turbine after temperature                0.058376 -0.092711  \n",
       "Turbine energy yield (mwh)              -0.569823 -0.116150  \n",
       "Compressor discharge pressure           -0.551026 -0.171247  \n",
       "CO (mg/m3)                               1.000000  0.340580  \n",
       "NOX                                      0.340580  1.000000  "
      ]
     },
     "execution_count": 11,
     "metadata": {},
     "output_type": "execute_result"
    }
   ],
   "source": [
    "cd.corr()          #measure of the linear relationship between the two variables\n"
   ]
  },
  {
   "cell_type": "code",
   "execution_count": 12,
   "id": "baa8f1e9",
   "metadata": {},
   "outputs": [
    {
     "data": {
      "text/plain": [
       "<AxesSubplot:>"
      ]
     },
     "execution_count": 12,
     "metadata": {},
     "output_type": "execute_result"
    },
    {
     "data": {
      "image/png": "[encoded data removed]",
      "text/plain": [
       "<Figure size 576x432 with 2 Axes>"
      ]
     },
     "metadata": {
      "needs_background": "light"
     },
     "output_type": "display_data"
    }
   ],
   "source": [
    "plt.figure(figsize=(8,6))\n",
    "sns.heatmap(cd.corr(),annot=True,linewidth=.7,)\n"
   ]
  },
  {
   "cell_type": "code",
   "execution_count": 13,
   "id": "4fec84bc",
   "metadata": {},
   "outputs": [
    {
     "name": "stdout",
     "output_type": "stream",
     "text": [
      "highly correlated feature:\n",
      " Index(['Gas turbine exhaust pressure (mbar)', 'Turbine inlet temperature',\n",
      "       'Turbine energy yield (mwh)', 'Compressor discharge pressure',\n",
      "       'CO (mg/m3)'],\n",
      "      dtype='object')\n",
      "No. of highly correlated features: 5\n"
     ]
    }
   ],
   "source": [
    "corr=cd.corr()\n",
    "\n",
    "high_corr_features=corr.index[abs(corr['CO (mg/m3)'])>0.50]\n",
    "print(f'highly correlated feature:\\n',high_corr_features)\n",
    "print(f'No. of highly correlated features:',len(high_corr_features))\n"
   ]
  },
  {
   "cell_type": "code",
   "execution_count": 14,
   "id": "40e1abc1",
   "metadata": {},
   "outputs": [
    {
     "data": {
      "text/plain": [
       "<AxesSubplot:>"
      ]
     },
     "execution_count": 14,
     "metadata": {},
     "output_type": "execute_result"
    },
    {
     "data": {
      "image/png": "[encoded data removed]",
      "text/plain": [
       "<Figure size 432x288 with 2 Axes>"
      ]
     },
     "metadata": {
      "needs_background": "light"
     },
     "output_type": "display_data"
    }
   ],
   "source": [
    "plt.figure(figsize=(6,4))\n",
    "sns.heatmap(cd[high_corr_features].corr(),annot=True,linewidth=2,)\n"
   ]
  },
  {
   "cell_type": "code",
   "execution_count": 15,
   "id": "5221915a",
   "metadata": {},
   "outputs": [],
   "source": [
    "from sklearn.preprocessing import StandardScaler\n",
    "from sklearn.model_selection import train_test_split\n"
   ]
  },
  {
   "cell_type": "code",
   "execution_count": 16,
   "id": "c92d480e",
   "metadata": {},
   "outputs": [],
   "source": [
    "x=cd.drop(['CO (mg/m3)','NOX'], axis=1)\n",
    "y=cd[['CO (mg/m3)']]\n"
   ]
  },
  {
   "cell_type": "code",
   "execution_count": 17,
   "id": "ae003e7e",
   "metadata": {},
   "outputs": [
    {
     "data": {
      "text/html": [
       "<div>\n",
       "<style scoped>\n",
       "    .dataframe tbody tr th:only-of-type {\n",
       "        vertical-align: middle;\n",
       "    }\n",
       "\n",
       "    .dataframe tbody tr th {\n",
       "        vertical-align: top;\n",
       "    }\n",
       "\n",
       "    .dataframe thead th {\n",
       "        text-align: right;\n",
       "    }\n",
       "</style>\n",
       "<table border=\"1\" class=\"dataframe\">\n",
       "  <thead>\n",
       "    <tr style=\"text-align: right;\">\n",
       "      <th></th>\n",
       "      <th>Ambient Temperature</th>\n",
       "      <th>Ambient Pressure (mbar)</th>\n",
       "      <th>Ambient Humidity (%)</th>\n",
       "      <th>Air filter difference pressure (mbar)</th>\n",
       "      <th>Gas turbine exhaust pressure (mbar)</th>\n",
       "      <th>Turbine inlet temperature</th>\n",
       "      <th>Turbine after temperature</th>\n",
       "      <th>Turbine energy yield (mwh)</th>\n",
       "      <th>Compressor discharge pressure</th>\n",
       "    </tr>\n",
       "  </thead>\n",
       "  <tbody>\n",
       "    <tr>\n",
       "      <th>0</th>\n",
       "      <td>4.5878</td>\n",
       "      <td>1018.7</td>\n",
       "      <td>83.675</td>\n",
       "      <td>3.5758</td>\n",
       "      <td>23.979</td>\n",
       "      <td>1086.2</td>\n",
       "      <td>549.83</td>\n",
       "      <td>134.67</td>\n",
       "      <td>11.898</td>\n",
       "    </tr>\n",
       "    <tr>\n",
       "      <th>1</th>\n",
       "      <td>4.2932</td>\n",
       "      <td>1018.3</td>\n",
       "      <td>84.235</td>\n",
       "      <td>3.5709</td>\n",
       "      <td>23.951</td>\n",
       "      <td>1086.1</td>\n",
       "      <td>550.05</td>\n",
       "      <td>134.67</td>\n",
       "      <td>11.892</td>\n",
       "    </tr>\n",
       "    <tr>\n",
       "      <th>2</th>\n",
       "      <td>3.9045</td>\n",
       "      <td>1018.4</td>\n",
       "      <td>84.858</td>\n",
       "      <td>3.5828</td>\n",
       "      <td>23.990</td>\n",
       "      <td>1086.5</td>\n",
       "      <td>550.19</td>\n",
       "      <td>135.10</td>\n",
       "      <td>12.042</td>\n",
       "    </tr>\n",
       "    <tr>\n",
       "      <th>3</th>\n",
       "      <td>3.7436</td>\n",
       "      <td>1018.3</td>\n",
       "      <td>85.434</td>\n",
       "      <td>3.5808</td>\n",
       "      <td>23.911</td>\n",
       "      <td>1086.5</td>\n",
       "      <td>550.17</td>\n",
       "      <td>135.03</td>\n",
       "      <td>11.990</td>\n",
       "    </tr>\n",
       "    <tr>\n",
       "      <th>4</th>\n",
       "      <td>3.7516</td>\n",
       "      <td>1017.8</td>\n",
       "      <td>85.182</td>\n",
       "      <td>3.5781</td>\n",
       "      <td>23.917</td>\n",
       "      <td>1085.9</td>\n",
       "      <td>550.00</td>\n",
       "      <td>134.67</td>\n",
       "      <td>11.910</td>\n",
       "    </tr>\n",
       "    <tr>\n",
       "      <th>...</th>\n",
       "      <td>...</td>\n",
       "      <td>...</td>\n",
       "      <td>...</td>\n",
       "      <td>...</td>\n",
       "      <td>...</td>\n",
       "      <td>...</td>\n",
       "      <td>...</td>\n",
       "      <td>...</td>\n",
       "      <td>...</td>\n",
       "    </tr>\n",
       "    <tr>\n",
       "      <th>36728</th>\n",
       "      <td>3.6268</td>\n",
       "      <td>1028.5</td>\n",
       "      <td>93.200</td>\n",
       "      <td>3.1661</td>\n",
       "      <td>19.087</td>\n",
       "      <td>1037.0</td>\n",
       "      <td>541.59</td>\n",
       "      <td>109.08</td>\n",
       "      <td>10.411</td>\n",
       "    </tr>\n",
       "    <tr>\n",
       "      <th>36729</th>\n",
       "      <td>4.1674</td>\n",
       "      <td>1028.6</td>\n",
       "      <td>94.036</td>\n",
       "      <td>3.1923</td>\n",
       "      <td>19.016</td>\n",
       "      <td>1037.6</td>\n",
       "      <td>542.28</td>\n",
       "      <td>108.79</td>\n",
       "      <td>10.344</td>\n",
       "    </tr>\n",
       "    <tr>\n",
       "      <th>36730</th>\n",
       "      <td>5.4820</td>\n",
       "      <td>1028.5</td>\n",
       "      <td>95.219</td>\n",
       "      <td>3.3128</td>\n",
       "      <td>18.857</td>\n",
       "      <td>1038.0</td>\n",
       "      <td>543.48</td>\n",
       "      <td>107.81</td>\n",
       "      <td>10.462</td>\n",
       "    </tr>\n",
       "    <tr>\n",
       "      <th>36731</th>\n",
       "      <td>5.8837</td>\n",
       "      <td>1028.7</td>\n",
       "      <td>94.200</td>\n",
       "      <td>3.9831</td>\n",
       "      <td>23.563</td>\n",
       "      <td>1076.9</td>\n",
       "      <td>550.11</td>\n",
       "      <td>131.41</td>\n",
       "      <td>11.771</td>\n",
       "    </tr>\n",
       "    <tr>\n",
       "      <th>36732</th>\n",
       "      <td>6.0392</td>\n",
       "      <td>1028.8</td>\n",
       "      <td>94.547</td>\n",
       "      <td>3.8752</td>\n",
       "      <td>22.524</td>\n",
       "      <td>1067.9</td>\n",
       "      <td>548.23</td>\n",
       "      <td>125.41</td>\n",
       "      <td>11.462</td>\n",
       "    </tr>\n",
       "  </tbody>\n",
       "</table>\n",
       "<p>36726 rows × 9 columns</p>\n",
       "</div>"
      ],
      "text/plain": [
       "       Ambient Temperature  Ambient Pressure (mbar)  Ambient Humidity (%)  \\\n",
       "0                   4.5878                   1018.7                83.675   \n",
       "1                   4.2932                   1018.3                84.235   \n",
       "2                   3.9045                   1018.4                84.858   \n",
       "3                   3.7436                   1018.3                85.434   \n",
       "4                   3.7516                   1017.8                85.182   \n",
       "...                    ...                      ...                   ...   \n",
       "36728               3.6268                   1028.5                93.200   \n",
       "36729               4.1674                   1028.6                94.036   \n",
       "36730               5.4820                   1028.5                95.219   \n",
       "36731               5.8837                   1028.7                94.200   \n",
       "36732               6.0392                   1028.8                94.547   \n",
       "\n",
       "       Air filter difference pressure (mbar)  \\\n",
       "0                                     3.5758   \n",
       "1                                     3.5709   \n",
       "2                                     3.5828   \n",
       "3                                     3.5808   \n",
       "4                                     3.5781   \n",
       "...                                      ...   \n",
       "36728                                 3.1661   \n",
       "36729                                 3.1923   \n",
       "36730                                 3.3128   \n",
       "36731                                 3.9831   \n",
       "36732                                 3.8752   \n",
       "\n",
       "       Gas turbine exhaust pressure (mbar)  Turbine inlet temperature  \\\n",
       "0                                   23.979                     1086.2   \n",
       "1                                   23.951                     1086.1   \n",
       "2                                   23.990                     1086.5   \n",
       "3                                   23.911                     1086.5   \n",
       "4                                   23.917                     1085.9   \n",
       "...                                    ...                        ...   \n",
       "36728                               19.087                     1037.0   \n",
       "36729                               19.016                     1037.6   \n",
       "36730                               18.857                     1038.0   \n",
       "36731                               23.563                     1076.9   \n",
       "36732                               22.524                     1067.9   \n",
       "\n",
       "       Turbine after temperature  Turbine energy yield (mwh)  \\\n",
       "0                         549.83                      134.67   \n",
       "1                         550.05                      134.67   \n",
       "2                         550.19                      135.10   \n",
       "3                         550.17                      135.03   \n",
       "4                         550.00                      134.67   \n",
       "...                          ...                         ...   \n",
       "36728                     541.59                      109.08   \n",
       "36729                     542.28                      108.79   \n",
       "36730                     543.48                      107.81   \n",
       "36731                     550.11                      131.41   \n",
       "36732                     548.23                      125.41   \n",
       "\n",
       "       Compressor discharge pressure  \n",
       "0                             11.898  \n",
       "1                             11.892  \n",
       "2                             12.042  \n",
       "3                             11.990  \n",
       "4                             11.910  \n",
       "...                              ...  \n",
       "36728                         10.411  \n",
       "36729                         10.344  \n",
       "36730                         10.462  \n",
       "36731                         11.771  \n",
       "36732                         11.462  \n",
       "\n",
       "[36726 rows x 9 columns]"
      ]
     },
     "execution_count": 17,
     "metadata": {},
     "output_type": "execute_result"
    }
   ],
   "source": [
    "x"
   ]
  },
  {
   "cell_type": "code",
   "execution_count": 18,
   "id": "80ef20c8",
   "metadata": {},
   "outputs": [],
   "source": [
    "xtr, xte, ytr, yte = train_test_split(x, y, test_size=0.25, random_state=42)"
   ]
  },
  {
   "cell_type": "code",
   "execution_count": 19,
   "id": "20a4439d",
   "metadata": {},
   "outputs": [
    {
     "data": {
      "text/plain": [
       "(27544, 9)"
      ]
     },
     "execution_count": 19,
     "metadata": {},
     "output_type": "execute_result"
    }
   ],
   "source": [
    "xtr.shape"
   ]
  },
  {
   "cell_type": "code",
   "execution_count": 20,
   "id": "5f9cd0a5",
   "metadata": {},
   "outputs": [
    {
     "data": {
      "text/plain": [
       "(9182, 9)"
      ]
     },
     "execution_count": 20,
     "metadata": {},
     "output_type": "execute_result"
    }
   ],
   "source": [
    "xte.shape"
   ]
  },
  {
   "cell_type": "code",
   "execution_count": 21,
   "id": "8691c9e8",
   "metadata": {},
   "outputs": [
    {
     "data": {
      "text/html": [
       "<div>\n",
       "<style scoped>\n",
       "    .dataframe tbody tr th:only-of-type {\n",
       "        vertical-align: middle;\n",
       "    }\n",
       "\n",
       "    .dataframe tbody tr th {\n",
       "        vertical-align: top;\n",
       "    }\n",
       "\n",
       "    .dataframe thead th {\n",
       "        text-align: right;\n",
       "    }\n",
       "</style>\n",
       "<table border=\"1\" class=\"dataframe\">\n",
       "  <thead>\n",
       "    <tr style=\"text-align: right;\">\n",
       "      <th></th>\n",
       "      <th>CO (mg/m3)</th>\n",
       "    </tr>\n",
       "  </thead>\n",
       "  <tbody>\n",
       "    <tr>\n",
       "      <th>count</th>\n",
       "      <td>36726.000000</td>\n",
       "    </tr>\n",
       "    <tr>\n",
       "      <th>mean</th>\n",
       "      <td>2.372627</td>\n",
       "    </tr>\n",
       "    <tr>\n",
       "      <th>std</th>\n",
       "      <td>2.262856</td>\n",
       "    </tr>\n",
       "    <tr>\n",
       "      <th>min</th>\n",
       "      <td>0.000388</td>\n",
       "    </tr>\n",
       "    <tr>\n",
       "      <th>25%</th>\n",
       "      <td>1.182325</td>\n",
       "    </tr>\n",
       "    <tr>\n",
       "      <th>50%</th>\n",
       "      <td>1.713700</td>\n",
       "    </tr>\n",
       "    <tr>\n",
       "      <th>75%</th>\n",
       "      <td>2.843350</td>\n",
       "    </tr>\n",
       "    <tr>\n",
       "      <th>max</th>\n",
       "      <td>44.103000</td>\n",
       "    </tr>\n",
       "  </tbody>\n",
       "</table>\n",
       "</div>"
      ],
      "text/plain": [
       "         CO (mg/m3)\n",
       "count  36726.000000\n",
       "mean       2.372627\n",
       "std        2.262856\n",
       "min        0.000388\n",
       "25%        1.182325\n",
       "50%        1.713700\n",
       "75%        2.843350\n",
       "max       44.103000"
      ]
     },
     "execution_count": 21,
     "metadata": {},
     "output_type": "execute_result"
    }
   ],
   "source": [
    "y.describe()"
   ]
  },
  {
   "cell_type": "code",
   "execution_count": 22,
   "id": "54c0d638",
   "metadata": {},
   "outputs": [],
   "source": [
    "scaler = StandardScaler()\n",
    "xs_train=scaler.fit_transform(xtr)\n",
    "xs_test=scaler.fit_transform(xte)\n"
   ]
  },
  {
   "cell_type": "code",
   "execution_count": 23,
   "id": "65d35e20",
   "metadata": {},
   "outputs": [],
   "source": [
    "# 1. Linear Regression"
   ]
  },
  {
   "cell_type": "code",
   "execution_count": 24,
   "id": "f1209b27",
   "metadata": {},
   "outputs": [
    {
     "data": {
      "text/plain": [
       "LinearRegression()"
      ]
     },
     "execution_count": 24,
     "metadata": {},
     "output_type": "execute_result"
    }
   ],
   "source": [
    "from sklearn.linear_model import LinearRegression\n",
    "lr = LinearRegression()\n",
    "lr.fit(xs_train,ytr)"
   ]
  },
  {
   "cell_type": "code",
   "execution_count": 25,
   "id": "0d4a9271",
   "metadata": {},
   "outputs": [],
   "source": [
    "ypred_tr = lr.predict(xs_train)\n",
    "ypred_te = lr.predict(xs_test)"
   ]
  },
  {
   "cell_type": "code",
   "execution_count": 26,
   "id": "b8f83d5f",
   "metadata": {},
   "outputs": [
    {
     "name": "stdout",
     "output_type": "stream",
     "text": [
      "\n",
      "Train rmse:  1.5011588038135169\n",
      "Test rmse:  1.4777372312523664\n"
     ]
    }
   ],
   "source": [
    "rmse1 = math.sqrt(mean_squared_error(ypred_tr,ytr))\n",
    "\n",
    "rmse2 = math.sqrt(mean_squared_error(ypred_te,yte))\n",
    "\n",
    "print(\"\\nTrain rmse: \",rmse1)\n",
    "print(\"Test rmse: \",rmse2)"
   ]
  },
  {
   "cell_type": "code",
   "execution_count": 27,
   "id": "1b4fa9ab",
   "metadata": {},
   "outputs": [
    {
     "data": {
      "text/plain": [
       "Text(0, 0.5, 'Predicted CO level')"
      ]
     },
     "execution_count": 27,
     "metadata": {},
     "output_type": "execute_result"
    },
    {
     "data": {
      "image/png": "[encoded data removed]",
      "text/plain": [
       "<Figure size 432x288 with 1 Axes>"
      ]
     },
     "metadata": {
      "needs_background": "light"
     },
     "output_type": "display_data"
    }
   ],
   "source": [
    "plt.scatter(yte,ypred_te,s=4)\n",
    "plt.plot(yte,yte,lw=2,c='r')\n",
    "plt.xlabel('Test CO level')\n",
    "plt.ylabel('Predicted CO level')"
   ]
  },
  {
   "cell_type": "code",
   "execution_count": 28,
   "id": "dede322d",
   "metadata": {},
   "outputs": [
    {
     "data": {
      "image/png": "[encoded data removed]",
      "text/plain": [
       "<Figure size 1008x720 with 12 Axes>"
      ]
     },
     "metadata": {
      "needs_background": "light"
     },
     "output_type": "display_data"
    }
   ],
   "source": [
    "#Numerical data distribution\n",
    "\n",
    "cd_num = cd.select_dtypes(include = ['float64', 'int64'])\n",
    "\n",
    "\n",
    "cd_num.hist(figsize=(14, 10), bins=50, xlabelsize=8, ylabelsize=8);\n"
   ]
  },
  {
   "cell_type": "code",
   "execution_count": null,
   "id": "01b64d9b",
   "metadata": {},
   "outputs": [],
   "source": []
  },
  {
   "cell_type": "code",
   "execution_count": null,
   "id": "f0f63611",
   "metadata": {},
   "outputs": [],
   "source": []
  },
  {
   "cell_type": "code",
   "execution_count": null,
   "id": "2d842a0c",
   "metadata": {},
   "outputs": [],
   "source": []
  },
  {
   "cell_type": "code",
   "execution_count": 29,
   "id": "4d7467a2",
   "metadata": {},
   "outputs": [],
   "source": [
    "# 2. Random Forest\n"
   ]
  },
  {
   "cell_type": "code",
   "execution_count": 30,
   "id": "1ecdc0c0",
   "metadata": {},
   "outputs": [
    {
     "data": {
      "text/plain": [
       "[0, 1, 2, 3, 4, 5, 6]"
      ]
     },
     "execution_count": 30,
     "metadata": {},
     "output_type": "execute_result"
    }
   ],
   "source": [
    "nbotv = [50,100,200,500,750,1000,2000]\n",
    "nbot = [0,1,2,3,4,5,6]\n",
    "nbot_len =len(nbot)\n",
    "nbot\n"
   ]
  },
  {
   "cell_type": "code",
   "execution_count": 31,
   "id": "eb64538c",
   "metadata": {},
   "outputs": [],
   "source": [
    "irms = np.zeros((nbot_len,))\n",
    "orms = np.zeros((nbot_len,))"
   ]
  },
  {
   "cell_type": "code",
   "execution_count": 32,
   "id": "16c8cef4",
   "metadata": {},
   "outputs": [
    {
     "name": "stderr",
     "output_type": "stream",
     "text": [
      "<ipython-input-32-1c47ef48d7f7>:3: DataConversionWarning: A column-vector y was passed when a 1d array was expected. Please change the shape of y to (n_samples,), for example using ravel().\n",
      "  rf.fit(xtr,ytr)\n",
      "<ipython-input-32-1c47ef48d7f7>:3: DataConversionWarning: A column-vector y was passed when a 1d array was expected. Please change the shape of y to (n_samples,), for example using ravel().\n",
      "  rf.fit(xtr,ytr)\n",
      "<ipython-input-32-1c47ef48d7f7>:3: DataConversionWarning: A column-vector y was passed when a 1d array was expected. Please change the shape of y to (n_samples,), for example using ravel().\n",
      "  rf.fit(xtr,ytr)\n",
      "<ipython-input-32-1c47ef48d7f7>:3: DataConversionWarning: A column-vector y was passed when a 1d array was expected. Please change the shape of y to (n_samples,), for example using ravel().\n",
      "  rf.fit(xtr,ytr)\n",
      "<ipython-input-32-1c47ef48d7f7>:3: DataConversionWarning: A column-vector y was passed when a 1d array was expected. Please change the shape of y to (n_samples,), for example using ravel().\n",
      "  rf.fit(xtr,ytr)\n",
      "<ipython-input-32-1c47ef48d7f7>:3: DataConversionWarning: A column-vector y was passed when a 1d array was expected. Please change the shape of y to (n_samples,), for example using ravel().\n",
      "  rf.fit(xtr,ytr)\n",
      "<ipython-input-32-1c47ef48d7f7>:3: DataConversionWarning: A column-vector y was passed when a 1d array was expected. Please change the shape of y to (n_samples,), for example using ravel().\n",
      "  rf.fit(xtr,ytr)\n"
     ]
    }
   ],
   "source": [
    "for i,j in zip(nbotv,nbot):\n",
    "   rf = RandomForestRegressor(n_estimators= i, random_state=42,max_features=3,max_leaf_nodes=50,max_depth = None)\n",
    "   rf.fit(xtr,ytr)\n",
    "   ypred_tr2 = rf.predict(xtr)\n",
    "   ypred_te2 = rf.predict(xte)\n",
    "   irms[j] = math.sqrt(mean_squared_error(ypred_tr2,ytr))\n",
    "   orms[j] = math.sqrt(mean_squared_error(ypred_te2,yte))"
   ]
  },
  {
   "cell_type": "code",
   "execution_count": 33,
   "id": "4be23462",
   "metadata": {},
   "outputs": [
    {
     "data": {
      "text/plain": [
       "Text(0, 0.5, 'Rmse, in sample ')"
      ]
     },
     "execution_count": 33,
     "metadata": {},
     "output_type": "execute_result"
    },
    {
     "data": {
      "image/png": "[encoded data removed]",
      "text/plain": [
       "<Figure size 432x288 with 1 Axes>"
      ]
     },
     "metadata": {
      "needs_background": "light"
     },
     "output_type": "display_data"
    }
   ],
   "source": [
    "plt.plot(nbotv,irms,'-ok',c='r')\n",
    "\n",
    "plt.xlabel('No of decision trees')\n",
    "plt.ylabel('Rmse, in sample ')\n"
   ]
  },
  {
   "cell_type": "code",
   "execution_count": 34,
   "id": "eba095ac",
   "metadata": {},
   "outputs": [
    {
     "data": {
      "text/plain": [
       "Text(0, 0.5, 'Rmse out of sample')"
      ]
     },
     "execution_count": 34,
     "metadata": {},
     "output_type": "execute_result"
    },
    {
     "data": {
      "image/png": "[encoded data removed]",
      "text/plain": [
       "<Figure size 432x288 with 1 Axes>"
      ]
     },
     "metadata": {
      "needs_background": "light"
     },
     "output_type": "display_data"
    }
   ],
   "source": [
    "plt.plot(nbotv,orms,'-ok',c='b')\n",
    "\n",
    "plt.xlabel('No of decision trees')\n",
    "plt.ylabel('Rmse out of sample')\n"
   ]
  },
  {
   "cell_type": "code",
   "execution_count": 35,
   "id": "f6aa0d24",
   "metadata": {},
   "outputs": [
    {
     "name": "stdout",
     "output_type": "stream",
     "text": [
      "50   1.1681708118582763\n",
      "100   1.155394303418626\n",
      "200   1.150983025463649\n",
      "500   1.1480892533831195\n",
      "750   1.1497423005671943\n",
      "1000   1.1494311423654857\n",
      "2000   1.1485793322871183\n"
     ]
    }
   ],
   "source": [
    "for i in range(nbot_len):\n",
    "    print(nbotv[i],\" \",orms[i])"
   ]
  },
  {
   "cell_type": "code",
   "execution_count": 36,
   "id": "bd5f82f4",
   "metadata": {},
   "outputs": [
    {
     "name": "stderr",
     "output_type": "stream",
     "text": [
      "<ipython-input-36-273ea21c1e25>:2: DataConversionWarning: A column-vector y was passed when a 1d array was expected. Please change the shape of y to (n_samples,), for example using ravel().\n",
      "  rf.fit(xtr,ytr)\n"
     ]
    }
   ],
   "source": [
    "rf = RandomForestRegressor(n_estimators= 500, random_state=42,max_features=3,max_leaf_nodes=50,max_depth = None)\n",
    "rf.fit(xtr,ytr)\n",
    "\n",
    "ypred_tr500 = rf.predict(xtr)\n",
    "ypred_te500 = rf.predict(xte)"
   ]
  },
  {
   "cell_type": "code",
   "execution_count": 37,
   "id": "c600ff0e",
   "metadata": {},
   "outputs": [
    {
     "name": "stdout",
     "output_type": "stream",
     "text": [
      "\n",
      "Train rmse:  1.0584583675459172\n",
      "Test rmse:  1.1480892533831195\n"
     ]
    }
   ],
   "source": [
    "rmse3 = math.sqrt(mean_squared_error(ypred_tr500,ytr))\n",
    "\n",
    "rmse4 = math.sqrt(mean_squared_error(yte,ypred_te500))\n",
    "\n",
    "print(\"\\nTrain rmse: \",rmse3)\n",
    "print(\"Test rmse: \",rmse4)"
   ]
  },
  {
   "cell_type": "code",
   "execution_count": 38,
   "id": "00bdaf7c",
   "metadata": {},
   "outputs": [
    {
     "name": "stderr",
     "output_type": "stream",
     "text": [
      "/Users/anirudhnandakumar/opt/anaconda3/lib/python3.8/site-packages/seaborn/distributions.py:2557: FutureWarning: `distplot` is a deprecated function and will be removed in a future version. Please adapt your code to use either `displot` (a figure-level function with similar flexibility) or `kdeplot` (an axes-level function for kernel density plots).\n",
      "  warnings.warn(msg, FutureWarning)\n",
      "/Users/anirudhnandakumar/opt/anaconda3/lib/python3.8/site-packages/seaborn/distributions.py:2557: FutureWarning: `distplot` is a deprecated function and will be removed in a future version. Please adapt your code to use either `displot` (a figure-level function with similar flexibility) or `kdeplot` (an axes-level function for kernel density plots).\n",
      "  warnings.warn(msg, FutureWarning)\n"
     ]
    },
    {
     "data": {
      "image/png": "[encoded data removed]",
      "text/plain": [
       "<Figure size 360x288 with 1 Axes>"
      ]
     },
     "metadata": {
      "needs_background": "light"
     },
     "output_type": "display_data"
    }
   ],
   "source": [
    "import seaborn as sns\n",
    "plt.figure(figsize=(5, 4))    #width and height\n",
    "\n",
    "\n",
    "ax = sns.distplot(yte, hist=False, color=\"r\", label=\"Actual Value\")\n",
    "sns.distplot(ypred_te2, hist=False, color=\"b\", label=\"Fitted Values\",ax=ax )\n",
    "plt.legend()\n",
    "plt.xlabel('CO emission (mg/m3)')\n",
    "plt.title('Random Forest')\n",
    "\n",
    "\n",
    "plt.show()\n",
    "plt.close()\n"
   ]
  },
  {
   "cell_type": "code",
   "execution_count": 39,
   "id": "57c222de",
   "metadata": {},
   "outputs": [
    {
     "name": "stderr",
     "output_type": "stream",
     "text": [
      "<ipython-input-39-d26a66bc3283>:2: DataConversionWarning: A column-vector y was passed when a 1d array was expected. Please change the shape of y to (n_samples,), for example using ravel().\n",
      "  rfb.fit(x, y)\n"
     ]
    },
    {
     "data": {
      "text/plain": [
       "RandomForestRegressor(n_estimators=500)"
      ]
     },
     "execution_count": 39,
     "metadata": {},
     "output_type": "execute_result"
    }
   ],
   "source": [
    "rfb = RandomForestRegressor(n_estimators=500)\n",
    "rfb.fit(x, y)\n"
   ]
  },
  {
   "cell_type": "code",
   "execution_count": 40,
   "id": "0604ef1d",
   "metadata": {},
   "outputs": [
    {
     "data": {
      "text/plain": [
       "array([0.0502567 , 0.03665358, 0.03866378, 0.05413941, 0.03833596,\n",
       "       0.50632931, 0.21423518, 0.03895524, 0.02243085])"
      ]
     },
     "execution_count": 40,
     "metadata": {},
     "output_type": "execute_result"
    }
   ],
   "source": [
    "rfb.feature_importances_\n"
   ]
  },
  {
   "cell_type": "code",
   "execution_count": 41,
   "id": "f013d274",
   "metadata": {},
   "outputs": [
    {
     "data": {
      "text/plain": [
       "<BarContainer object of 9 artists>"
      ]
     },
     "execution_count": 41,
     "metadata": {},
     "output_type": "execute_result"
    },
    {
     "data": {
      "image/png": "[encoded data removed]",
      "text/plain": [
       "<Figure size 432x288 with 1 Axes>"
      ]
     },
     "metadata": {
      "needs_background": "light"
     },
     "output_type": "display_data"
    }
   ],
   "source": [
    "plt.barh(x.columns, rfb.feature_importances_)\n"
   ]
  },
  {
   "cell_type": "code",
   "execution_count": 42,
   "id": "12737ef7",
   "metadata": {},
   "outputs": [
    {
     "data": {
      "text/plain": [
       "Text(0.5, 0, 'Random Forest Feature Importance')"
      ]
     },
     "execution_count": 42,
     "metadata": {},
     "output_type": "execute_result"
    },
    {
     "data": {
      "image/png": "[encoded data removed]",
      "text/plain": [
       "<Figure size 432x288 with 1 Axes>"
      ]
     },
     "metadata": {
      "needs_background": "light"
     },
     "output_type": "display_data"
    }
   ],
   "source": [
    "sorted_idx = rfb.feature_importances_.argsort()\n",
    "plt.barh(x.columns[sorted_idx], rfb.feature_importances_[sorted_idx])\n",
    "plt.xlabel(\"Random Forest Feature Importance\")\n"
   ]
  },
  {
   "cell_type": "code",
   "execution_count": null,
   "id": "d8f2f239",
   "metadata": {},
   "outputs": [],
   "source": []
  },
  {
   "cell_type": "code",
   "execution_count": null,
   "id": "e33bc905",
   "metadata": {},
   "outputs": [],
   "source": []
  },
  {
   "cell_type": "code",
   "execution_count": 43,
   "id": "9ff62017",
   "metadata": {},
   "outputs": [],
   "source": [
    "# 3. Gradient Boosting"
   ]
  },
  {
   "cell_type": "code",
   "execution_count": 44,
   "id": "5a39d7e1",
   "metadata": {},
   "outputs": [],
   "source": [
    "from sklearn.ensemble import GradientBoostingRegressor\n",
    "from sklearn.metrics import mean_squared_error\n"
   ]
  },
  {
   "cell_type": "code",
   "execution_count": 45,
   "id": "a473e076",
   "metadata": {},
   "outputs": [
    {
     "name": "stderr",
     "output_type": "stream",
     "text": [
      "/Users/anirudhnandakumar/opt/anaconda3/lib/python3.8/site-packages/sklearn/utils/validation.py:63: DataConversionWarning: A column-vector y was passed when a 1d array was expected. Please change the shape of y to (n_samples, ), for example using ravel().\n",
      "  return f(*args, **kwargs)\n"
     ]
    },
    {
     "name": "stdout",
     "output_type": "stream",
     "text": [
      "Model Accuracy: 0.740\n",
      "The root mean squared error (MSE) on train set: {:.4f} 1.1063565292847772\n",
      "\n",
      "The root mean squared error (MSE) on train set: {:.4f} 1.1702178229300102\n"
     ]
    }
   ],
   "source": [
    "gbr_params = {'n_estimators': 1000,\n",
    "          'max_depth': 3,\n",
    "          'min_samples_split': 5,\n",
    "          'learning_rate': 0.01,\n",
    "          'loss': 'ls'}\n",
    "#\n",
    "# Create an instance of gradient boosting regressor\n",
    "#\n",
    "gbr = GradientBoostingRegressor(**gbr_params)\n",
    "#\n",
    "# Fit the model\n",
    "#\n",
    "gbr.fit(xtr, ytr)\n",
    "#\n",
    "# Print Coefficient of determination R^2\n",
    "#\n",
    "print(\"Model Accuracy: %.3f\" % gbr.score(xte, yte))\n",
    "#\n",
    "# Create the mean squared error\n",
    "#\n",
    "rmse_tr = math.sqrt(mean_squared_error(ytr, gbr.predict(xtr)))\n",
    "\n",
    "rmse_te = math.sqrt(mean_squared_error(yte,gbr.predict(xte) ))\n",
    "\n",
    "print(\"The root mean squared error (MSE) on train set: {:.4f}\",format(rmse_tr))\n",
    "                    \n",
    "print(\"\\nThe root mean squared error (MSE) on train set: {:.4f}\",format(rmse_te))\n"
   ]
  },
  {
   "cell_type": "code",
   "execution_count": 46,
   "id": "63613c45",
   "metadata": {},
   "outputs": [
    {
     "name": "stderr",
     "output_type": "stream",
     "text": [
      "/Users/anirudhnandakumar/opt/anaconda3/lib/python3.8/site-packages/seaborn/distributions.py:2557: FutureWarning: `distplot` is a deprecated function and will be removed in a future version. Please adapt your code to use either `displot` (a figure-level function with similar flexibility) or `kdeplot` (an axes-level function for kernel density plots).\n",
      "  warnings.warn(msg, FutureWarning)\n",
      "/Users/anirudhnandakumar/opt/anaconda3/lib/python3.8/site-packages/seaborn/distributions.py:2557: FutureWarning: `distplot` is a deprecated function and will be removed in a future version. Please adapt your code to use either `displot` (a figure-level function with similar flexibility) or `kdeplot` (an axes-level function for kernel density plots).\n",
      "  warnings.warn(msg, FutureWarning)\n"
     ]
    },
    {
     "data": {
      "image/png": "[encoded data removed]",
      "text/plain": [
       "<Figure size 360x288 with 1 Axes>"
      ]
     },
     "metadata": {
      "needs_background": "light"
     },
     "output_type": "display_data"
    }
   ],
   "source": [
    "import seaborn as sns\n",
    "plt.figure(figsize=(5, 4))    #width and height\n",
    "\n",
    "\n",
    "ax = sns.distplot(yte, hist=False, color=\"r\", label=\"Actual Value\")\n",
    "sns.distplot(gbr.predict(xte), hist=False, color=\"b\", label=\"Fitted Values\",ax=ax )\n",
    "plt.legend()\n",
    "plt.xlabel('CO emission (mg/m3)')\n",
    "plt.title('gbm')\n",
    "\n",
    "\n",
    "plt.show()\n",
    "plt.close()\n"
   ]
  },
  {
   "cell_type": "code",
   "execution_count": 47,
   "id": "fbf6e158",
   "metadata": {},
   "outputs": [
    {
     "data": {
      "image/png": "[encoded data removed]",
      "text/plain": [
       "<Figure size 360x360 with 1 Axes>"
      ]
     },
     "metadata": {
      "needs_background": "light"
     },
     "output_type": "display_data"
    }
   ],
   "source": [
    "from sklearn.inspection import permutation_importance\n",
    "#\n",
    "# Get Feature importance data using feature_importances_ attribute\n",
    "#\n",
    "feature_importance = gbr.feature_importances_\n",
    "sorted_idx2 = np.argsort(feature_importance)\n",
    "pos = np.arange(sorted_idx2.shape[0]) + .5\n",
    "fig = plt.figure(figsize=(5, 5))\n",
    "plt.barh(pos, feature_importance[sorted_idx2], align='center')\n",
    "plt.yticks(pos, np.array(cd.columns)[sorted_idx])         \n",
    "\n",
    "# intead of feature_names use cd.columns\n",
    "#https://datascience.stackexchange.com/questions/63556/i-got-the-following-error-dataframe-object-has-no-attribute-data-can-you-h\n",
    "\n",
    "plt.xlabel('Graident boosting Feature Importance')\n",
    "result = permutation_importance(gbr, xte, yte, n_repeats=10,\n",
    "                                random_state=42, n_jobs=2)\n",
    "sorted_idx2 = result.importances_mean.argsort()\n",
    "fig.tight_layout()\n",
    "plt.show()\n",
    "\n",
    "\n",
    "\n"
   ]
  },
  {
   "cell_type": "code",
   "execution_count": 48,
   "id": "d749fd03",
   "metadata": {},
   "outputs": [
    {
     "data": {
      "text/plain": [
       "Text(0.5, 0, 'Graident boosting Feature Importance')"
      ]
     },
     "execution_count": 48,
     "metadata": {},
     "output_type": "execute_result"
    },
    {
     "data": {
      "image/png": "[encoded data removed]",
      "text/plain": [
       "<Figure size 432x288 with 1 Axes>"
      ]
     },
     "metadata": {
      "needs_background": "light"
     },
     "output_type": "display_data"
    }
   ],
   "source": [
    "plt.barh(x.columns[sorted_idx2], gbr.feature_importances_[sorted_idx2])\n",
    "plt.xlabel('Graident boosting Feature Importance')\n"
   ]
  },
  {
   "cell_type": "code",
   "execution_count": 49,
   "id": "e0015779",
   "metadata": {},
   "outputs": [],
   "source": [
    "# trying out different parameters"
   ]
  },
  {
   "cell_type": "code",
   "execution_count": 80,
   "id": "9abb7a91",
   "metadata": {},
   "outputs": [
    {
     "name": "stderr",
     "output_type": "stream",
     "text": [
      "/Users/anirudhnandakumar/opt/anaconda3/lib/python3.8/site-packages/sklearn/utils/validation.py:63: DataConversionWarning: A column-vector y was passed when a 1d array was expected. Please change the shape of y to (n_samples, ), for example using ravel().\n",
      "  return f(*args, **kwargs)\n"
     ]
    },
    {
     "name": "stdout",
     "output_type": "stream",
     "text": [
      "Model Accuracy: 0.776\n",
      "The root mean squared error (MSE) on train set: {:.4f} 0.7698645406430275\n",
      "\n",
      "The root mean squared error (MSE) on train set: {:.4f} 1.0870557608640143\n"
     ]
    }
   ],
   "source": [
    "gbrq_params = {'n_estimators': 1000,\n",
    "          'max_depth': 3,\n",
    "          'min_samples_split': 5,\n",
    "          'learning_rate': 0.1,\n",
    "          'loss': 'ls'}\n",
    "#\n",
    "# Create an instance of gradient boosting regressor\n",
    "#\n",
    "gbrq = GradientBoostingRegressor(**gbrq_params)\n",
    "#\n",
    "# Fit the model\n",
    "#\n",
    "gbrq.fit(xtr, ytr)\n",
    "#\n",
    "# Print Coefficient of determination R^2\n",
    "#\n",
    "print(\"Model Accuracy: %.3f\" % gbrq.score(xte, yte))\n",
    "#\n",
    "# Create the mean squared error\n",
    "#\n",
    "rmse_tr2 = math.sqrt(mean_squared_error(ytr, gbrq.predict(xtr)))\n",
    "\n",
    "rmse_te2 = math.sqrt(mean_squared_error(yte, gbrq.predict(xte)))\n",
    "\n",
    "print(\"The root mean squared error (MSE) on train set: {:.4f}\",format(rmse_tr2))\n",
    "                    \n",
    "print(\"\\nThe root mean squared error (MSE) on train set: {:.4f}\",format(rmse_te2))\n"
   ]
  },
  {
   "cell_type": "code",
   "execution_count": 51,
   "id": "338383e0",
   "metadata": {},
   "outputs": [
    {
     "name": "stderr",
     "output_type": "stream",
     "text": [
      "/Users/anirudhnandakumar/opt/anaconda3/lib/python3.8/site-packages/sklearn/utils/validation.py:63: DataConversionWarning: A column-vector y was passed when a 1d array was expected. Please change the shape of y to (n_samples, ), for example using ravel().\n",
      "  return f(*args, **kwargs)\n"
     ]
    },
    {
     "name": "stdout",
     "output_type": "stream",
     "text": [
      "Model Accuracy: 0.726\n",
      "The root mean squared error (MSE) on train set: {:.4f} 0.9841994209516991\n",
      "\n",
      "The root mean squared error (MSE) on train set: {:.4f} 1.2021950357563116\n"
     ]
    }
   ],
   "source": [
    "gbr3_params = {'n_estimators': 1000,\n",
    "          'max_depth': 2,\n",
    "          'min_samples_split': 5,\n",
    "          'learning_rate': 0.1,\n",
    "          'loss': 'ls'}\n",
    "#\n",
    "# Create an instance of gradient boosting regressor\n",
    "#\n",
    "gbr3 = GradientBoostingRegressor(**gbr3_params)\n",
    "#\n",
    "# Fit the model\n",
    "#\n",
    "gbr3.fit(xtr, ytr)\n",
    "#\n",
    "# Print Coefficient of determination R^2\n",
    "#\n",
    "print(\"Model Accuracy: %.3f\" % gbr3.score(xte, yte))\n",
    "#\n",
    "# Create the mean squared error\n",
    "#\n",
    "rmse_tr3 = math.sqrt(mean_squared_error(ytr, gbr3.predict(xtr)))\n",
    "\n",
    "rmse_te3 = math.sqrt(mean_squared_error(yte, gbr3.predict(xte)))\n",
    "\n",
    "print(\"The root mean squared error (MSE) on train set: {:.4f}\",format(rmse_tr3))\n",
    "                    \n",
    "print(\"\\nThe root mean squared error (MSE) on train set: {:.4f}\",format(rmse_te3))\n"
   ]
  },
  {
   "cell_type": "code",
   "execution_count": 52,
   "id": "5063684d",
   "metadata": {},
   "outputs": [
    {
     "name": "stderr",
     "output_type": "stream",
     "text": [
      "/Users/anirudhnandakumar/opt/anaconda3/lib/python3.8/site-packages/sklearn/utils/validation.py:63: DataConversionWarning: A column-vector y was passed when a 1d array was expected. Please change the shape of y to (n_samples, ), for example using ravel().\n",
      "  return f(*args, **kwargs)\n"
     ]
    },
    {
     "name": "stdout",
     "output_type": "stream",
     "text": [
      "Model Accuracy: 0.715\n",
      "The root mean squared error (MSE) on train set: {:.4f} 1.2333169573814513\n",
      "\n",
      "The root mean squared error (MSE) on train set: {:.4f} 1.2255453909870553\n"
     ]
    }
   ],
   "source": [
    "gbr4_params = {'n_estimators': 1000,\n",
    "          'max_depth': 2,\n",
    "          'min_samples_split': 5,\n",
    "          'learning_rate': 0.01,\n",
    "          'loss': 'ls'}\n",
    "#\n",
    "# Create an instance of gradient boosting regressor\n",
    "#\n",
    "gbr4 = GradientBoostingRegressor(**gbr4_params)\n",
    "#\n",
    "# Fit the model\n",
    "#\n",
    "gbr4.fit(xtr, ytr)\n",
    "#\n",
    "# Print Coefficient of determination R^2\n",
    "#\n",
    "print(\"Model Accuracy: %.3f\" % gbr4.score(xte, yte))\n",
    "#\n",
    "# Create the mean squared error\n",
    "#\n",
    "rmse_tr4 = math.sqrt(mean_squared_error(ytr, gbr4.predict(xtr)))\n",
    "\n",
    "rmse_te4 = math.sqrt(mean_squared_error(yte, gbr4.predict(xte)))\n",
    "\n",
    "print(\"The root mean squared error (MSE) on train set: {:.4f}\",format(rmse_tr4))\n",
    "                    \n",
    "print(\"\\nThe root mean squared error (MSE) on train set: {:.4f}\",format(rmse_te4))\n"
   ]
  },
  {
   "cell_type": "code",
   "execution_count": 53,
   "id": "b9dfb0ec",
   "metadata": {},
   "outputs": [
    {
     "name": "stderr",
     "output_type": "stream",
     "text": [
      "/Users/anirudhnandakumar/opt/anaconda3/lib/python3.8/site-packages/sklearn/utils/validation.py:63: DataConversionWarning: A column-vector y was passed when a 1d array was expected. Please change the shape of y to (n_samples, ), for example using ravel().\n",
      "  return f(*args, **kwargs)\n"
     ]
    },
    {
     "name": "stdout",
     "output_type": "stream",
     "text": [
      "Model Accuracy: 0.772\n",
      "The root mean squared error (MSE) on train set: {:.4f} 0.8878796472288605\n",
      "\n",
      "The root mean squared error (MSE) on train set: {:.4f} 1.094799844150033\n"
     ]
    }
   ],
   "source": [
    "gbr5_params = {'n_estimators': 500,\n",
    "          'max_depth': 3,\n",
    "          'min_samples_split': 5,\n",
    "          'learning_rate': 0.1,\n",
    "          'loss': 'ls'}\n",
    "#\n",
    "# Create an instance of gradient boosting regressor\n",
    "#\n",
    "gbr5 = GradientBoostingRegressor(**gbr5_params)\n",
    "#\n",
    "# Fit the model\n",
    "#\n",
    "gbr5.fit(xtr, ytr)\n",
    "#\n",
    "# Print Coefficient of determination R^2\n",
    "#\n",
    "print(\"Model Accuracy: %.3f\" % gbr5.score(xte, yte))\n",
    "#\n",
    "# Create the mean squared error\n",
    "#\n",
    "rmse_tr5 = math.sqrt(mean_squared_error(ytr, gbr5.predict(xtr)))\n",
    "\n",
    "rmse_te5 = math.sqrt(mean_squared_error(yte, gbr5.predict(xte)))\n",
    "\n",
    "print(\"The root mean squared error (MSE) on train set: {:.4f}\",format(rmse_tr5))\n",
    "                    \n",
    "print(\"\\nThe root mean squared error (MSE) on train set: {:.4f}\",format(rmse_te5))\n"
   ]
  },
  {
   "cell_type": "code",
   "execution_count": 54,
   "id": "55faf7dc",
   "metadata": {},
   "outputs": [
    {
     "name": "stderr",
     "output_type": "stream",
     "text": [
      "/Users/anirudhnandakumar/opt/anaconda3/lib/python3.8/site-packages/sklearn/utils/validation.py:63: DataConversionWarning: A column-vector y was passed when a 1d array was expected. Please change the shape of y to (n_samples, ), for example using ravel().\n",
      "  return f(*args, **kwargs)\n"
     ]
    },
    {
     "name": "stdout",
     "output_type": "stream",
     "text": [
      "Model Accuracy: 0.729\n",
      "The root mean squared error (MSE) on train set: {:.4f} 1.168172179443907\n",
      "\n",
      "The root mean squared error (MSE) on train set: {:.4f} 1.1945530268395486\n"
     ]
    }
   ],
   "source": [
    "gbr6_params = {'n_estimators': 500,\n",
    "          'max_depth': 3,\n",
    "          'min_samples_split': 5,\n",
    "          'learning_rate': 0.01,\n",
    "          'loss': 'ls'}\n",
    "#\n",
    "# Create an instance of gradient boosting regressor\n",
    "#\n",
    "gbr6 = GradientBoostingRegressor(**gbr6_params)\n",
    "#\n",
    "# Fit the model\n",
    "#\n",
    "gbr6.fit(xtr, ytr)\n",
    "#\n",
    "# Print Coefficient of determination R^2\n",
    "#\n",
    "print(\"Model Accuracy: %.3f\" % gbr6.score(xte, yte))\n",
    "#\n",
    "# Create the mean squared error\n",
    "#\n",
    "rmse_tr6 = math.sqrt(mean_squared_error(ytr, gbr6.predict(xtr)))\n",
    "\n",
    "rmse_te6 = math.sqrt(mean_squared_error(yte, gbr6.predict(xte)))\n",
    "\n",
    "print(\"The root mean squared error (MSE) on train set: {:.4f}\",format(rmse_tr6))\n",
    "                    \n",
    "print(\"\\nThe root mean squared error (MSE) on train set: {:.4f}\",format(rmse_te6))\n"
   ]
  },
  {
   "cell_type": "code",
   "execution_count": 55,
   "id": "b2953fd3",
   "metadata": {},
   "outputs": [
    {
     "name": "stderr",
     "output_type": "stream",
     "text": [
      "/Users/anirudhnandakumar/opt/anaconda3/lib/python3.8/site-packages/sklearn/utils/validation.py:63: DataConversionWarning: A column-vector y was passed when a 1d array was expected. Please change the shape of y to (n_samples, ), for example using ravel().\n",
      "  return f(*args, **kwargs)\n"
     ]
    },
    {
     "name": "stdout",
     "output_type": "stream",
     "text": [
      "Model Accuracy: 0.705\n",
      "The root mean squared error (MSE) on train set: {:.4f} 1.271073713880032\n",
      "\n",
      "The root mean squared error (MSE) on train set: {:.4f} 1.2459577044069259\n"
     ]
    }
   ],
   "source": [
    "gbr7_params = {'n_estimators': 500,\n",
    "          'max_depth': 2,\n",
    "          'min_samples_split': 5,\n",
    "          'learning_rate': 0.01,\n",
    "          'loss': 'ls'}\n",
    "#\n",
    "# Create an instance of gradient boosting regressor\n",
    "#\n",
    "gbr7 = GradientBoostingRegressor(**gbr7_params)\n",
    "#\n",
    "# Fit the model\n",
    "#\n",
    "gbr7.fit(xtr, ytr)\n",
    "#\n",
    "# Print Coefficient of determination R^2\n",
    "#\n",
    "print(\"Model Accuracy: %.3f\" % gbr7.score(xte, yte))\n",
    "#\n",
    "# Create the mean squared error\n",
    "#\n",
    "rmse_tr7 = math.sqrt(mean_squared_error(ytr, gbr7.predict(xtr)))\n",
    "\n",
    "rmse_te7 = math.sqrt(mean_squared_error(yte, gbr7.predict(xte)))\n",
    "\n",
    "print(\"The root mean squared error (MSE) on train set: {:.4f}\",format(rmse_tr7))\n",
    "                    \n",
    "print(\"\\nThe root mean squared error (MSE) on train set: {:.4f}\",format(rmse_te7))\n"
   ]
  },
  {
   "cell_type": "code",
   "execution_count": 56,
   "id": "2be6e209",
   "metadata": {},
   "outputs": [
    {
     "name": "stderr",
     "output_type": "stream",
     "text": [
      "/Users/anirudhnandakumar/opt/anaconda3/lib/python3.8/site-packages/sklearn/utils/validation.py:63: DataConversionWarning: A column-vector y was passed when a 1d array was expected. Please change the shape of y to (n_samples, ), for example using ravel().\n",
      "  return f(*args, **kwargs)\n"
     ]
    },
    {
     "name": "stdout",
     "output_type": "stream",
     "text": [
      "Model Accuracy: 0.727\n",
      "The root mean squared error (MSE) on train set: {:.4f} 1.0644711467202104\n",
      "\n",
      "The root mean squared error (MSE) on train set: {:.4f} 1.1987314925038401\n"
     ]
    }
   ],
   "source": [
    "gbr8_params = {'n_estimators': 500,\n",
    "          'max_depth': 2,\n",
    "          'min_samples_split': 5,\n",
    "          'learning_rate': 0.1,\n",
    "          'loss': 'ls'}\n",
    "#\n",
    "# Create an instance of gradient boosting regressor\n",
    "#\n",
    "gbr8 = GradientBoostingRegressor(**gbr8_params)\n",
    "#\n",
    "# Fit the model\n",
    "#\n",
    "gbr8.fit(xtr, ytr)\n",
    "#\n",
    "# Print Coefficient of determination R^2\n",
    "#\n",
    "print(\"Model Accuracy: %.3f\" % gbr8.score(xte, yte))\n",
    "#\n",
    "# Create the mean squared error\n",
    "#\n",
    "rmse_tr8 = math.sqrt(mean_squared_error(ytr, gbr8.predict(xtr)))\n",
    "\n",
    "rmse_te8 = math.sqrt(mean_squared_error(yte, gbr8.predict(xte)))\n",
    "\n",
    "print(\"The root mean squared error (MSE) on train set: {:.4f}\",format(rmse_tr8))\n",
    "                    \n",
    "print(\"\\nThe root mean squared error (MSE) on train set: {:.4f}\",format(rmse_te8))\n"
   ]
  },
  {
   "cell_type": "code",
   "execution_count": 57,
   "id": "a84618ca",
   "metadata": {},
   "outputs": [
    {
     "name": "stderr",
     "output_type": "stream",
     "text": [
      "/Users/anirudhnandakumar/opt/anaconda3/lib/python3.8/site-packages/sklearn/utils/validation.py:63: DataConversionWarning: A column-vector y was passed when a 1d array was expected. Please change the shape of y to (n_samples, ), for example using ravel().\n",
      "  return f(*args, **kwargs)\n"
     ]
    },
    {
     "name": "stdout",
     "output_type": "stream",
     "text": [
      "Model Accuracy: 0.766\n",
      "The root mean squared error (MSE) on train set: {:.4f} 0.5702845406883977\n",
      "\n",
      "The root mean squared error (MSE) on train set: {:.4f} 1.1106078196389535\n"
     ]
    }
   ],
   "source": [
    "gbr9_params = {'n_estimators': 3000,\n",
    "          'max_depth': 3,\n",
    "          'min_samples_split': 5,\n",
    "          'learning_rate': 0.1,\n",
    "          'loss': 'ls'}\n",
    "#\n",
    "# Create an instance of gradient boosting regressor\n",
    "#\n",
    "gbr9 = GradientBoostingRegressor(**gbr9_params)\n",
    "#\n",
    "# Fit the model\n",
    "#\n",
    "gbr9.fit(xtr, ytr)\n",
    "#\n",
    "# Print Coefficient of determination R^2\n",
    "#\n",
    "print(\"Model Accuracy: %.3f\" % gbr9.score(xte, yte))\n",
    "#\n",
    "# Create the mean squared error\n",
    "#\n",
    "rmse_tr9 = math.sqrt(mean_squared_error(ytr, gbr9.predict(xtr)))\n",
    "\n",
    "rmse_te9 = math.sqrt(mean_squared_error(yte, gbr9.predict(xte)))\n",
    "\n",
    "print(\"The root mean squared error (MSE) on train set: {:.4f}\",format(rmse_tr9))\n",
    "                    \n",
    "print(\"\\nThe root mean squared error (MSE) on train set: {:.4f}\",format(rmse_te9))\n"
   ]
  },
  {
   "cell_type": "code",
   "execution_count": null,
   "id": "7a51affb",
   "metadata": {},
   "outputs": [],
   "source": []
  },
  {
   "cell_type": "code",
   "execution_count": 67,
   "id": "e1b8869f",
   "metadata": {},
   "outputs": [],
   "source": [
    "## loop over learning rate\n",
    "#nbotv = np.arange(5,51)\n",
    "#nbot = len(nbotv)\n",
    "\n",
    "mmm = [0.005,0.007,0.01,0.05,0.1,0.2,0.3,0.5] #learning rate values\n",
    "nnn = [0,1,2,3,4,5,6,7]\n",
    "nbot_len =len(nnn)\n",
    "nbot\n",
    "\n",
    "irms3 = np.zeros((nbot_len,))\n",
    "orms3 = np.zeros((nbot_len,))"
   ]
  },
  {
   "cell_type": "code",
   "execution_count": 68,
   "id": "ae4daab1",
   "metadata": {},
   "outputs": [
    {
     "name": "stderr",
     "output_type": "stream",
     "text": [
      "/Users/anirudhnandakumar/opt/anaconda3/lib/python3.8/site-packages/sklearn/utils/validation.py:63: DataConversionWarning: A column-vector y was passed when a 1d array was expected. Please change the shape of y to (n_samples, ), for example using ravel().\n",
      "  return f(*args, **kwargs)\n",
      "/Users/anirudhnandakumar/opt/anaconda3/lib/python3.8/site-packages/sklearn/utils/validation.py:63: DataConversionWarning: A column-vector y was passed when a 1d array was expected. Please change the shape of y to (n_samples, ), for example using ravel().\n",
      "  return f(*args, **kwargs)\n",
      "/Users/anirudhnandakumar/opt/anaconda3/lib/python3.8/site-packages/sklearn/utils/validation.py:63: DataConversionWarning: A column-vector y was passed when a 1d array was expected. Please change the shape of y to (n_samples, ), for example using ravel().\n",
      "  return f(*args, **kwargs)\n",
      "/Users/anirudhnandakumar/opt/anaconda3/lib/python3.8/site-packages/sklearn/utils/validation.py:63: DataConversionWarning: A column-vector y was passed when a 1d array was expected. Please change the shape of y to (n_samples, ), for example using ravel().\n",
      "  return f(*args, **kwargs)\n",
      "/Users/anirudhnandakumar/opt/anaconda3/lib/python3.8/site-packages/sklearn/utils/validation.py:63: DataConversionWarning: A column-vector y was passed when a 1d array was expected. Please change the shape of y to (n_samples, ), for example using ravel().\n",
      "  return f(*args, **kwargs)\n",
      "/Users/anirudhnandakumar/opt/anaconda3/lib/python3.8/site-packages/sklearn/utils/validation.py:63: DataConversionWarning: A column-vector y was passed when a 1d array was expected. Please change the shape of y to (n_samples, ), for example using ravel().\n",
      "  return f(*args, **kwargs)\n",
      "/Users/anirudhnandakumar/opt/anaconda3/lib/python3.8/site-packages/sklearn/utils/validation.py:63: DataConversionWarning: A column-vector y was passed when a 1d array was expected. Please change the shape of y to (n_samples, ), for example using ravel().\n",
      "  return f(*args, **kwargs)\n",
      "/Users/anirudhnandakumar/opt/anaconda3/lib/python3.8/site-packages/sklearn/utils/validation.py:63: DataConversionWarning: A column-vector y was passed when a 1d array was expected. Please change the shape of y to (n_samples, ), for example using ravel().\n",
      "  return f(*args, **kwargs)\n"
     ]
    }
   ],
   "source": [
    "for k,l in zip(mmm,nnn):\n",
    "    gbxxx = GradientBoostingRegressor(n_estimators= 1000,max_depth= 3,min_samples_split= 5,learning_rate= k,loss= 'ls')\n",
    "    gbxxx.fit(xtr,ytr)\n",
    "    ypred_tr_new3 = gbxxx.predict(xtr)\n",
    "    ypred_te_new3 = gbxxx.predict(xte)\n",
    "    orms3[l] = math.sqrt(mean_squared_error(ypred_te_new3,yte))\n",
    "    irms3[l] = math.sqrt(mean_squared_error(ypred_tr_new3,ytr))\n",
    "\n"
   ]
  },
  {
   "cell_type": "code",
   "execution_count": 69,
   "id": "70e61e7d",
   "metadata": {},
   "outputs": [
    {
     "data": {
      "text/plain": [
       "Text(0, 0.5, 'Rmse, in sample (blue)')"
      ]
     },
     "execution_count": 69,
     "metadata": {},
     "output_type": "execute_result"
    },
    {
     "data": {
      "image/png": "[encoded data removed]",
      "text/plain": [
       "<Figure size 432x288 with 1 Axes>"
      ]
     },
     "metadata": {
      "needs_background": "light"
     },
     "output_type": "display_data"
    }
   ],
   "source": [
    "plt.plot(mmm,irms3,'-ok',c='b')\n",
    "plt.xlabel('Learning rate')\n",
    "plt.ylabel('Rmse, in sample (blue)')"
   ]
  },
  {
   "cell_type": "code",
   "execution_count": 70,
   "id": "5da1ea69",
   "metadata": {},
   "outputs": [
    {
     "data": {
      "text/plain": [
       "Text(0, 0.5, 'Rmse, out of sample (red)')"
      ]
     },
     "execution_count": 70,
     "metadata": {},
     "output_type": "execute_result"
    },
    {
     "data": {
      "image/png": "[encoded data removed]",
      "text/plain": [
       "<Figure size 432x288 with 1 Axes>"
      ]
     },
     "metadata": {
      "needs_background": "light"
     },
     "output_type": "display_data"
    }
   ],
   "source": [
    "plt.plot(mmm,orms3,'-ok',c='r')\n",
    "plt.xlabel('Learning rate')\n",
    "plt.ylabel('Rmse, out of sample (red)')"
   ]
  },
  {
   "cell_type": "code",
   "execution_count": null,
   "id": "befed490",
   "metadata": {},
   "outputs": [],
   "source": []
  },
  {
   "cell_type": "code",
   "execution_count": null,
   "id": "62ce2725",
   "metadata": {},
   "outputs": [],
   "source": []
  }
 ],
 "metadata": {
  "kernelspec": {
   "display_name": "Python 3",
   "language": "python",
   "name": "python3"
  },
  "language_info": {
   "codemirror_mode": {
    "name": "ipython",
    "version": 3
   },
   "file_extension": ".py",
   "mimetype": "text/x-python",
   "name": "python",
   "nbconvert_exporter": "python",
   "pygments_lexer": "ipython3",
   "version": "3.8.8"
  }
 },
 "nbformat": 4,
 "nbformat_minor": 5
}
